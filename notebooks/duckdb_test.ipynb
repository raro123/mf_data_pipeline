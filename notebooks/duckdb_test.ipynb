{
 "cells": [
  {
   "cell_type": "code",
   "execution_count": 1,
   "id": "a1365497",
   "metadata": {},
   "outputs": [],
   "source": [
    "import duckdb\n",
    "import dotenv"
   ]
  },
  {
   "cell_type": "code",
   "execution_count": 2,
   "id": "d02bd93f",
   "metadata": {},
   "outputs": [],
   "source": [
    "env = dotenv.dotenv_values(\".env\")"
   ]
  },
  {
   "cell_type": "code",
   "execution_count": null,
   "id": "544dffc5",
   "metadata": {},
   "outputs": [],
   "source": [
    "%config SqlMagic.autopandas = True\n",
    "%config SqlMagic.feedback = False\n",
    "%config SqlMagic.displaycon = False"
   ]
  },
  {
   "cell_type": "code",
   "execution_count": 3,
   "id": "e3e36f7c",
   "metadata": {},
   "outputs": [],
   "source": [
    "con = duckdb.connect()"
   ]
  },
  {
   "cell_type": "code",
   "execution_count": 4,
   "id": "3d5fc095",
   "metadata": {},
   "outputs": [],
   "source": [
    "con.install_extension('httpfs')\n",
    "con.load_extension('httpfs')"
   ]
  },
  {
   "cell_type": "code",
   "execution_count": 5,
   "id": "5d43b85a",
   "metadata": {},
   "outputs": [
    {
     "data": {
      "text/plain": [
       "┌─────────┐\n",
       "│ Success │\n",
       "│ boolean │\n",
       "├─────────┤\n",
       "│ true    │\n",
       "└─────────┘"
      ]
     },
     "execution_count": 5,
     "metadata": {},
     "output_type": "execute_result"
    }
   ],
   "source": [
    "con.sql(f\"\"\"\n",
    "CREATE OR REPLACE SECRET (\n",
    "    TYPE r2,\n",
    "    KEY_ID '{env['R2_ACCESS_KEY_ID']}',\n",
    "    SECRET '{env['R2_SECRET_ACCESS_KEY']}',\n",
    "    ACCOUNT_ID '{env['R2_ACCOUNT_ID']}'\n",
    ");\n",
    "\"\"\")"
   ]
  },
  {
   "cell_type": "markdown",
   "id": "228ada40",
   "metadata": {},
   "source": [
    "### Read and clean raw"
   ]
  },
  {
   "cell_type": "code",
   "execution_count": 6,
   "id": "0189e5c1",
   "metadata": {},
   "outputs": [],
   "source": [
    "from config.settings import R2"
   ]
  },
  {
   "cell_type": "code",
   "execution_count": 7,
   "id": "64dd2ff4",
   "metadata": {},
   "outputs": [],
   "source": [
    "r2 = R2()"
   ]
  },
  {
   "cell_type": "code",
   "execution_count": 8,
   "id": "44c4198e",
   "metadata": {},
   "outputs": [],
   "source": [
    "path = r2.get_full_path('raw',\"*\")"
   ]
  },
  {
   "cell_type": "code",
   "execution_count": 9,
   "id": "8460e337",
   "metadata": {},
   "outputs": [],
   "source": [
    "all_raw = con.read_parquet(path)"
   ]
  },
  {
   "cell_type": "code",
   "execution_count": 10,
   "id": "d9f797b9",
   "metadata": {},
   "outputs": [],
   "source": [
    "metadata = con.read_parquet(\"./data/processed/scheme_metadata/amfi_scheme_metadata.parquet\")"
   ]
  },
  {
   "cell_type": "code",
   "execution_count": null,
   "id": "0c8dae7b",
   "metadata": {},
   "outputs": [
    {
     "ename": "AttributeError",
     "evalue": "'_duckdb.DuckDBPyConnection' object has no attribute 'to_parquet'",
     "output_type": "error",
     "traceback": [
      "\u001b[0;31m---------------------------------------------------------------------------\u001b[0m",
      "\u001b[0;31mAttributeError\u001b[0m                            Traceback (most recent call last)",
      "Cell \u001b[0;32mIn[31], line 1\u001b[0m\n\u001b[0;32m----> 1\u001b[0m \u001b[43mcon\u001b[49m\u001b[38;5;241;43m.\u001b[39;49m\u001b[43mto_parquet\u001b[49m(metadata,\u001b[38;5;124m\"\u001b[39m\u001b[38;5;124mr2://mf-data-pipeline/clean/scheme_metadata.parquet\u001b[39m\u001b[38;5;124m\"\u001b[39m)\n",
      "\u001b[0;31mAttributeError\u001b[0m: '_duckdb.DuckDBPyConnection' object has no attribute 'to_parquet'"
     ]
    }
   ],
   "source": []
  },
  {
   "cell_type": "code",
   "execution_count": 29,
   "id": "892adc6e",
   "metadata": {},
   "outputs": [],
   "source": [
    "nav_data = all_raw.join(metadata.filter('is_growth_plan = TRUE').select('''scheme_code,\n",
    "        amc_name,\n",
    "        scheme_name,\n",
    "        scheme_type,\n",
    "        scheme_category,\n",
    "        scheme_nav_name,\n",
    "        scheme_category_level1,\n",
    "        scheme_category_level2,\n",
    "        is_direct,\n",
    "        is_growth_plan'''), \"scheme_code\", how=\"inner\").filter(\"nav IS NOT NULL\").distinct()"
   ]
  },
  {
   "cell_type": "code",
   "execution_count": 28,
   "id": "839eb113",
   "metadata": {},
   "outputs": [
    {
     "data": {
      "application/vnd.microsoft.datawrangler.viewer.v0+json": {
       "columns": [
        {
         "name": "index",
         "rawType": "int64",
         "type": "integer"
        },
        {
         "name": "scheme_code",
         "rawType": "object",
         "type": "string"
        },
        {
         "name": "isin_growth",
         "rawType": "object",
         "type": "string"
        },
        {
         "name": "isin_dividend",
         "rawType": "object",
         "type": "unknown"
        },
        {
         "name": "nav",
         "rawType": "float64",
         "type": "float"
        },
        {
         "name": "date",
         "rawType": "datetime64[ns]",
         "type": "datetime"
        }
       ],
       "ref": "4e07eb5e-73b4-4bdb-bdad-1ea0975a72af",
       "rows": [
        [
         "0",
         "100033",
         "INF209K01165",
         null,
         "902.96",
         "2025-08-25 00:00:00"
        ],
        [
         "1",
         "100033",
         "INF209K01165",
         null,
         "891.03",
         "2025-08-26 00:00:00"
        ],
        [
         "2",
         "100033",
         "INF209K01165",
         null,
         "883.65",
         "2025-08-28 00:00:00"
        ],
        [
         "3",
         "100033",
         "INF209K01165",
         null,
         "878.99",
         "2025-08-29 00:00:00"
        ],
        [
         "4",
         "100033",
         "INF209K01165",
         null,
         "890.7",
         "2025-09-01 00:00:00"
        ],
        [
         "5",
         "100033",
         "INF209K01165",
         null,
         "891.7",
         "2025-09-02 00:00:00"
        ],
        [
         "6",
         "100033",
         "INF209K01165",
         null,
         "895.76",
         "2025-09-03 00:00:00"
        ],
        [
         "7",
         "100033",
         "INF209K01165",
         null,
         "893.12",
         "2025-09-04 00:00:00"
        ],
        [
         "8",
         "100033",
         "INF209K01165",
         null,
         "891.58",
         "2025-09-05 00:00:00"
        ],
        [
         "9",
         "100033",
         "INF209K01165",
         null,
         "895.39",
         "2025-09-08 00:00:00"
        ],
        [
         "10",
         "100033",
         "INF209K01165",
         null,
         "897.21",
         "2025-09-09 00:00:00"
        ],
        [
         "11",
         "100033",
         "INF209K01165",
         null,
         "901.93",
         "2025-09-10 00:00:00"
        ],
        [
         "12",
         "100033",
         "INF209K01165",
         null,
         "901.41",
         "2025-09-11 00:00:00"
        ],
        [
         "13",
         "100033",
         "INF209K01165",
         null,
         "904.44",
         "2025-09-12 00:00:00"
        ],
        [
         "14",
         "100033",
         "INF209K01165",
         null,
         "908.09",
         "2025-09-15 00:00:00"
        ],
        [
         "15",
         "100033",
         "INF209K01165",
         null,
         "913.9",
         "2025-09-16 00:00:00"
        ],
        [
         "16",
         "100033",
         "INF209K01165",
         null,
         "915.69",
         "2025-09-17 00:00:00"
        ],
        [
         "17",
         "100033",
         "INF209K01165",
         null,
         "918.71",
         "2025-09-18 00:00:00"
        ],
        [
         "18",
         "100033",
         "INF209K01165",
         null,
         "917.07",
         "2025-09-19 00:00:00"
        ],
        [
         "19",
         "100033",
         "INF209K01165",
         null,
         "910.64",
         "2025-09-22 00:00:00"
        ],
        [
         "20",
         "100033",
         "INF209K01165",
         null,
         "911.75",
         "2025-09-23 00:00:00"
        ],
        [
         "21",
         "100033",
         "INF209K01165",
         null,
         "904.66",
         "2025-09-24 00:00:00"
        ],
        [
         "22",
         "100033",
         "INF209K01165",
         null,
         "899.46",
         "2025-09-25 00:00:00"
        ],
        [
         "23",
         "100033",
         "INF209K01165",
         null,
         "885.02",
         "2025-09-26 00:00:00"
        ],
        [
         "24",
         "100033",
         "INF209K01165",
         null,
         "282.61",
         "2015-11-10 00:00:00"
        ],
        [
         "25",
         "100033",
         "INF209K01165",
         null,
         "281.51",
         "2015-11-13 00:00:00"
        ],
        [
         "26",
         "100033",
         "INF209K01165",
         null,
         "281.4",
         "2015-11-16 00:00:00"
        ],
        [
         "27",
         "100033",
         "INF209K01165",
         null,
         "281.83",
         "2015-11-17 00:00:00"
        ],
        [
         "28",
         "100033",
         "INF209K01165",
         null,
         "279.65",
         "2015-11-18 00:00:00"
        ],
        [
         "29",
         "100033",
         "INF209K01165",
         null,
         "283.37",
         "2015-11-19 00:00:00"
        ],
        [
         "30",
         "100033",
         "INF209K01165",
         null,
         "285.35",
         "2015-11-20 00:00:00"
        ],
        [
         "31",
         "100033",
         "INF209K01165",
         null,
         "286.28",
         "2015-11-23 00:00:00"
        ],
        [
         "32",
         "100033",
         "INF209K01165",
         null,
         "285.18",
         "2015-11-24 00:00:00"
        ],
        [
         "33",
         "100033",
         "INF209K01165",
         null,
         "287.17",
         "2015-11-26 00:00:00"
        ],
        [
         "34",
         "100033",
         "INF209K01165",
         null,
         "288.97",
         "2015-11-27 00:00:00"
        ],
        [
         "35",
         "100033",
         "INF209K01165",
         null,
         "288.91",
         "2015-11-30 00:00:00"
        ],
        [
         "36",
         "100033",
         "INF209K01165",
         null,
         "288.83",
         "2015-12-01 00:00:00"
        ],
        [
         "37",
         "100033",
         "INF209K01165",
         null,
         "288.24",
         "2015-12-02 00:00:00"
        ],
        [
         "38",
         "100033",
         "INF209K01165",
         null,
         "287.47",
         "2015-12-03 00:00:00"
        ],
        [
         "39",
         "100033",
         "INF209K01165",
         null,
         "285.21",
         "2015-12-04 00:00:00"
        ],
        [
         "40",
         "100033",
         "INF209K01165",
         null,
         "284.47",
         "2015-12-07 00:00:00"
        ],
        [
         "41",
         "100033",
         "INF209K01165",
         null,
         "282.6",
         "2015-12-08 00:00:00"
        ],
        [
         "42",
         "100033",
         "INF209K01165",
         null,
         "278.54",
         "2015-12-09 00:00:00"
        ],
        [
         "43",
         "100033",
         "INF209K01165",
         null,
         "280.41",
         "2015-12-10 00:00:00"
        ],
        [
         "44",
         "100033",
         "INF209K01165",
         null,
         "277.54",
         "2015-12-11 00:00:00"
        ],
        [
         "45",
         "100033",
         "INF209K01165",
         null,
         "278.56",
         "2015-12-14 00:00:00"
        ],
        [
         "46",
         "100033",
         "INF209K01165",
         null,
         "280.82",
         "2015-12-15 00:00:00"
        ],
        [
         "47",
         "100033",
         "INF209K01165",
         null,
         "282.34",
         "2015-12-16 00:00:00"
        ],
        [
         "48",
         "100033",
         "INF209K01165",
         null,
         "286.09",
         "2015-12-17 00:00:00"
        ],
        [
         "49",
         "100033",
         "INF209K01165",
         null,
         "284.49",
         "2015-12-18 00:00:00"
        ]
       ],
       "shape": {
        "columns": 5,
        "rows": 5321
       }
      },
      "text/html": [
       "<div>\n",
       "<style scoped>\n",
       "    .dataframe tbody tr th:only-of-type {\n",
       "        vertical-align: middle;\n",
       "    }\n",
       "\n",
       "    .dataframe tbody tr th {\n",
       "        vertical-align: top;\n",
       "    }\n",
       "\n",
       "    .dataframe thead th {\n",
       "        text-align: right;\n",
       "    }\n",
       "</style>\n",
       "<table border=\"1\" class=\"dataframe\">\n",
       "  <thead>\n",
       "    <tr style=\"text-align: right;\">\n",
       "      <th></th>\n",
       "      <th>scheme_code</th>\n",
       "      <th>isin_growth</th>\n",
       "      <th>isin_dividend</th>\n",
       "      <th>nav</th>\n",
       "      <th>date</th>\n",
       "    </tr>\n",
       "  </thead>\n",
       "  <tbody>\n",
       "    <tr>\n",
       "      <th>0</th>\n",
       "      <td>100033</td>\n",
       "      <td>INF209K01165</td>\n",
       "      <td>None</td>\n",
       "      <td>902.96</td>\n",
       "      <td>2025-08-25</td>\n",
       "    </tr>\n",
       "    <tr>\n",
       "      <th>1</th>\n",
       "      <td>100033</td>\n",
       "      <td>INF209K01165</td>\n",
       "      <td>None</td>\n",
       "      <td>891.03</td>\n",
       "      <td>2025-08-26</td>\n",
       "    </tr>\n",
       "    <tr>\n",
       "      <th>2</th>\n",
       "      <td>100033</td>\n",
       "      <td>INF209K01165</td>\n",
       "      <td>None</td>\n",
       "      <td>883.65</td>\n",
       "      <td>2025-08-28</td>\n",
       "    </tr>\n",
       "    <tr>\n",
       "      <th>3</th>\n",
       "      <td>100033</td>\n",
       "      <td>INF209K01165</td>\n",
       "      <td>None</td>\n",
       "      <td>878.99</td>\n",
       "      <td>2025-08-29</td>\n",
       "    </tr>\n",
       "    <tr>\n",
       "      <th>4</th>\n",
       "      <td>100033</td>\n",
       "      <td>INF209K01165</td>\n",
       "      <td>None</td>\n",
       "      <td>890.70</td>\n",
       "      <td>2025-09-01</td>\n",
       "    </tr>\n",
       "    <tr>\n",
       "      <th>...</th>\n",
       "      <td>...</td>\n",
       "      <td>...</td>\n",
       "      <td>...</td>\n",
       "      <td>...</td>\n",
       "      <td>...</td>\n",
       "    </tr>\n",
       "    <tr>\n",
       "      <th>5316</th>\n",
       "      <td>100033</td>\n",
       "      <td>INF209K01165</td>\n",
       "      <td>None</td>\n",
       "      <td>741.07</td>\n",
       "      <td>2023-12-20</td>\n",
       "    </tr>\n",
       "    <tr>\n",
       "      <th>5317</th>\n",
       "      <td>100033</td>\n",
       "      <td>INF209K01165</td>\n",
       "      <td>None</td>\n",
       "      <td>747.29</td>\n",
       "      <td>2023-12-21</td>\n",
       "    </tr>\n",
       "    <tr>\n",
       "      <th>5318</th>\n",
       "      <td>100033</td>\n",
       "      <td>INF209K01165</td>\n",
       "      <td>None</td>\n",
       "      <td>750.89</td>\n",
       "      <td>2023-12-22</td>\n",
       "    </tr>\n",
       "    <tr>\n",
       "      <th>5319</th>\n",
       "      <td>100033</td>\n",
       "      <td>INF209K01165</td>\n",
       "      <td>None</td>\n",
       "      <td>753.34</td>\n",
       "      <td>2023-12-26</td>\n",
       "    </tr>\n",
       "    <tr>\n",
       "      <th>5320</th>\n",
       "      <td>100033</td>\n",
       "      <td>INF209K01165</td>\n",
       "      <td>None</td>\n",
       "      <td>757.80</td>\n",
       "      <td>2023-12-27</td>\n",
       "    </tr>\n",
       "  </tbody>\n",
       "</table>\n",
       "<p>5321 rows × 5 columns</p>\n",
       "</div>"
      ],
      "text/plain": [
       "     scheme_code   isin_growth isin_dividend     nav       date\n",
       "0         100033  INF209K01165          None  902.96 2025-08-25\n",
       "1         100033  INF209K01165          None  891.03 2025-08-26\n",
       "2         100033  INF209K01165          None  883.65 2025-08-28\n",
       "3         100033  INF209K01165          None  878.99 2025-08-29\n",
       "4         100033  INF209K01165          None  890.70 2025-09-01\n",
       "...          ...           ...           ...     ...        ...\n",
       "5316      100033  INF209K01165          None  741.07 2023-12-20\n",
       "5317      100033  INF209K01165          None  747.29 2023-12-21\n",
       "5318      100033  INF209K01165          None  750.89 2023-12-22\n",
       "5319      100033  INF209K01165          None  753.34 2023-12-26\n",
       "5320      100033  INF209K01165          None  757.80 2023-12-27\n",
       "\n",
       "[5321 rows x 5 columns]"
      ]
     },
     "execution_count": 28,
     "metadata": {},
     "output_type": "execute_result"
    }
   ],
   "source": [
    "con.sql(\"\"\"select * from all_raw where scheme_code = 100033\"\"\").df()"
   ]
  },
  {
   "cell_type": "code",
   "execution_count": 30,
   "id": "4a9e4597",
   "metadata": {},
   "outputs": [
    {
     "data": {
      "text/plain": [
       "┌─────────────┬──────────────┬────────┬───────┐\n",
       "│ scheme_code │     date     │  nav   │ count │\n",
       "│   varchar   │ timestamp_ns │ double │ int64 │\n",
       "├─────────────┴──────────────┴────────┴───────┤\n",
       "│                   0 rows                    │\n",
       "└─────────────────────────────────────────────┘"
      ]
     },
     "execution_count": 30,
     "metadata": {},
     "output_type": "execute_result"
    }
   ],
   "source": [
    "con.sql(\"\"\"\n",
    "        SELECT \n",
    "            scheme_code,\n",
    "            date,\n",
    "            nav,\n",
    "            COUNT(*) as count\n",
    "        FROM nav_data\n",
    "        GROUP BY scheme_code, date,nav\n",
    "        HAVING COUNT(*) > 1\n",
    "        ORDER BY scheme_code, date\n",
    "\"\"\")"
   ]
  },
  {
   "cell_type": "code",
   "execution_count": null,
   "id": "6d312049",
   "metadata": {},
   "outputs": [],
   "source": [
    "# First, drop specified columns from metadata and prepare for join\n",
    "metadata_clean = con.sql(\"\"\"\n",
    "    SELECT \n",
    "        scheme_code,\n",
    "        amc_name,\n",
    "        scheme_name,\n",
    "        scheme_type,\n",
    "        scheme_category,\n",
    "        scheme_nav_name,\n",
    "        scheme_category_level1,\n",
    "        scheme_category_level2,\n",
    "        is_direct,\n",
    "        is_growth_plan\n",
    "    FROM metadata\n",
    "\"\"\")\n",
    "\n",
    "# Join, remove duplicates, and forward fill NAV\n",
    "result = con.sql(\"\"\"\n",
    "    WITH joined AS (\n",
    "        SELECT \n",
    "            a.*,\n",
    "            m.amc_name,\n",
    "            m.scheme_name,\n",
    "            m.scheme_type,\n",
    "            m.scheme_category,\n",
    "            m.scheme_nav_name,\n",
    "            m.scheme_category_level1,\n",
    "            m.scheme_category_level2,\n",
    "            m.is_direct,\n",
    "            m.is_growth_plan\n",
    "        FROM all_raw a\n",
    "        INNER JOIN metadata_clean m ON a.scheme_code = m.scheme_code\n",
    "    ),\n",
    "    -- Check for duplicates\n",
    "    duplicates AS (\n",
    "        SELECT scheme_code, date, COUNT(*) as cnt\n",
    "        FROM joined\n",
    "        GROUP BY scheme_code, date\n",
    "        HAVING COUNT(*) > 1\n",
    "    ),\n",
    "    -- Forward fill NAV using window functions\n",
    "    final AS (\n",
    "        SELECT DISTINCT \n",
    "            j.*,\n",
    "            LAST_VALUE(nav) IGNORE NULLS \n",
    "            OVER (PARTITION BY j.scheme_code ORDER BY date \n",
    "                  ROWS BETWEEN UNBOUNDED PRECEDING AND CURRENT ROW) as nav_filled\n",
    "        FROM joined j\n",
    "    )\n",
    "    SELECT * FROM final\n",
    "    ORDER BY scheme_code, date\n",
    "\"\"\")\n",
    "\n",
    "# Show duplicate counts if any exist\n",
    "duplicates = con.sql(\"\"\"\n",
    "    SELECT scheme_code, date, COUNT(*) as cnt\n",
    "    FROM (\n",
    "        SELECT DISTINCT scheme_code, date, nav \n",
    "        FROM all_raw a\n",
    "        INNER JOIN metadata_clean m ON a.scheme_code = m.scheme_code\n",
    "    )\n",
    "    GROUP BY scheme_code, date\n",
    "    HAVING COUNT(*) > 1\n",
    "\"\"\")\n",
    "\n",
    "print(\"Checking for duplicates:\")\n",
    "print(duplicates)\n",
    "print(\"\\nFinal result:\")\n",
    "print(result)"
   ]
  },
  {
   "cell_type": "code",
   "execution_count": null,
   "id": "0f7568d1",
   "metadata": {},
   "outputs": [],
   "source": [
    "all_raw"
   ]
  },
  {
   "cell_type": "code",
   "execution_count": null,
   "id": "caf69d8d",
   "metadata": {},
   "outputs": [],
   "source": []
  },
  {
   "cell_type": "code",
   "execution_count": null,
   "id": "a4e12ab9",
   "metadata": {},
   "outputs": [],
   "source": [
    "test = con.read_parquet(\"r2://financial-data-store/clean/commodities_bhav_clean.parquet\")"
   ]
  },
  {
   "cell_type": "code",
   "execution_count": null,
   "id": "77aeb2df",
   "metadata": {},
   "outputs": [],
   "source": [
    "test.limit(5)"
   ]
  },
  {
   "cell_type": "code",
   "execution_count": null,
   "id": "8aa2a2fc",
   "metadata": {},
   "outputs": [],
   "source": [
    "from pathlib import Path\n",
    "import pandas as pd"
   ]
  },
  {
   "cell_type": "code",
   "execution_count": null,
   "id": "504528c8",
   "metadata": {},
   "outputs": [],
   "source": [
    "def clean_cols(df):\n",
    "    df.columns = df.columns.str.strip().str.lower().str.replace(' ','_').str.replace('.','_').str.replace('(','').str.replace(')','')\n",
    "    return df\n",
    "    \n",
    "    "
   ]
  },
  {
   "cell_type": "code",
   "execution_count": null,
   "id": "e0f6ae5f",
   "metadata": {},
   "outputs": [],
   "source": [
    "col_select = ['Scheme Code', 'ISIN Div Payout/ISIN Growth', 'ISIN Div Reinvestment', 'Net Asset Value', 'Date']"
   ]
  },
  {
   "cell_type": "code",
   "execution_count": null,
   "id": "39aef71c",
   "metadata": {},
   "outputs": [],
   "source": [
    "raw_csvs = pd.concat([pd.read_csv(f)[col_select] for f in Path('/home/modiis/projects/mf_data_pipeline/data/raw/nav_historical').glob('*.csv')], ignore_index=True)"
   ]
  },
  {
   "cell_type": "code",
   "execution_count": null,
   "id": "ecf38380",
   "metadata": {},
   "outputs": [],
   "source": [
    "raw_csvs.head()"
   ]
  },
  {
   "cell_type": "code",
   "execution_count": null,
   "id": "18956173",
   "metadata": {},
   "outputs": [],
   "source": [
    "raw_csvs.shape"
   ]
  },
  {
   "cell_type": "code",
   "execution_count": null,
   "id": "196bfb96",
   "metadata": {},
   "outputs": [],
   "source": [
    "raw_csvs.head()"
   ]
  },
  {
   "cell_type": "code",
   "execution_count": null,
   "id": "721a6dc2",
   "metadata": {},
   "outputs": [],
   "source": [
    "clean_df = (raw_csvs\n",
    "         .rename(columns={\n",
    "            'Scheme Code': 'scheme_code',\n",
    "            'ISIN Div Payout/ISIN Growth': 'isin_growth', \n",
    "            'ISIN Div Reinvestment': 'isin_dividend',\n",
    "            'Net Asset Value': 'nav',\n",
    "            'Date': 'date'\n",
    "        })\n",
    "         .query('scheme_code.notnull() & nav.notnull() & date.notnull()')\n",
    "         .assign(scheme_code=lambda x: x['scheme_code'].astype(str),\n",
    "                 date = lambda x: pd.to_datetime(x['date'], format='%d-%b-%Y', errors='coerce'),\n",
    "                 nav = lambda x: pd.to_numeric(x['nav'], errors='coerce'),         \n",
    "        )\n",
    "        )"
   ]
  },
  {
   "cell_type": "code",
   "execution_count": null,
   "id": "40f17d3b",
   "metadata": {},
   "outputs": [],
   "source": [
    "clean_df.head()"
   ]
  },
  {
   "cell_type": "code",
   "execution_count": null,
   "id": "b7be2e2c",
   "metadata": {},
   "outputs": [],
   "source": [
    "from config.settings import R2"
   ]
  },
  {
   "cell_type": "code",
   "execution_count": null,
   "id": "13fb68fb",
   "metadata": {},
   "outputs": [],
   "source": [
    "r2 = R2()"
   ]
  },
  {
   "cell_type": "code",
   "execution_count": null,
   "id": "3512dfeb",
   "metadata": {},
   "outputs": [],
   "source": [
    "path = r2.get_full_path('raw','nav_historical')"
   ]
  },
  {
   "cell_type": "code",
   "execution_count": null,
   "id": "691d7ab5",
   "metadata": {},
   "outputs": [],
   "source": [
    "path"
   ]
  },
  {
   "cell_type": "code",
   "execution_count": null,
   "id": "57838002",
   "metadata": {},
   "outputs": [],
   "source": [
    "con.write_parquet(clean_df, path, overwrite=True)"
   ]
  },
  {
   "cell_type": "code",
   "execution_count": null,
   "id": "4e549f54",
   "metadata": {},
   "outputs": [],
   "source": [
    "FILE_PATH"
   ]
  },
  {
   "cell_type": "code",
   "execution_count": null,
   "id": "b49b9ff9",
   "metadata": {},
   "outputs": [],
   "source": [
    "con.read_parquet(r2)"
   ]
  },
  {
   "cell_type": "code",
   "execution_count": 32,
   "id": "583070ae",
   "metadata": {},
   "outputs": [
    {
     "data": {
      "text/plain": [
       "<_duckdb.DuckDBPyConnection at 0x77993c138bf0>"
      ]
     },
     "execution_count": 32,
     "metadata": {},
     "output_type": "execute_result"
    }
   ],
   "source": [
    "# Register your DataFrame with DuckDB\n",
    "con.register('scheme_metadata', metadata)"
   ]
  },
  {
   "cell_type": "code",
   "execution_count": 34,
   "id": "196e48a2",
   "metadata": {},
   "outputs": [
    {
     "data": {
      "text/plain": [
       "<_duckdb.DuckDBPyConnection at 0x77993c138bf0>"
      ]
     },
     "execution_count": 34,
     "metadata": {},
     "output_type": "execute_result"
    }
   ],
   "source": [
    "con.execute(f\"\"\"\n",
    "    COPY scheme_metadata TO 'r2://financial-data-store/mutual_funds/clean/scheme_metadata.parquet' \n",
    "    (FORMAT PARQUET)\n",
    "\"\"\")"
   ]
  },
  {
   "cell_type": "code",
   "execution_count": 35,
   "id": "e7cd6bce",
   "metadata": {},
   "outputs": [
    {
     "ename": "NameError",
     "evalue": "name 'pat' is not defined",
     "output_type": "error",
     "traceback": [
      "\u001b[0;31m---------------------------------------------------------------------------\u001b[0m",
      "\u001b[0;31mNameError\u001b[0m                                 Traceback (most recent call last)",
      "Cell \u001b[0;32mIn[35], line 1\u001b[0m\n\u001b[0;32m----> 1\u001b[0m con\u001b[38;5;241m.\u001b[39mread_parquet(\u001b[43mpat\u001b[49m)\n",
      "\u001b[0;31mNameError\u001b[0m: name 'pat' is not defined"
     ]
    }
   ],
   "source": [
    "con.read_parquet(pat)"
   ]
  },
  {
   "cell_type": "code",
   "execution_count": null,
   "id": "8e685a24",
   "metadata": {},
   "outputs": [],
   "source": []
  }
 ],
 "metadata": {
  "kernelspec": {
   "display_name": "mf_data_pipeline (3.10.13)",
   "language": "python",
   "name": "python3"
  },
  "language_info": {
   "codemirror_mode": {
    "name": "ipython",
    "version": 3
   },
   "file_extension": ".py",
   "mimetype": "text/x-python",
   "name": "python",
   "nbconvert_exporter": "python",
   "pygments_lexer": "ipython3",
   "version": "3.10.13"
  }
 },
 "nbformat": 4,
 "nbformat_minor": 5
}
