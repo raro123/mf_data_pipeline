{
 "cells": [
  {
   "cell_type": "code",
   "execution_count": 1,
   "id": "a1365497",
   "metadata": {},
   "outputs": [],
   "source": [
    "import duckdb\n",
    "import dotenv"
   ]
  },
  {
   "cell_type": "code",
   "execution_count": 2,
   "id": "d02bd93f",
   "metadata": {},
   "outputs": [],
   "source": [
    "env = dotenv.dotenv_values(\".env\")"
   ]
  },
  {
   "cell_type": "code",
   "execution_count": 3,
   "id": "0a386745",
   "metadata": {},
   "outputs": [
    {
     "data": {
      "text/plain": [
       "OrderedDict([('KITE_API_KEY', 'dvrupglqqvbe45r5'),\n",
       "             ('KITE_API_SECRET', '892acup2e35yb198d6lpqjhwawn90dgj'),\n",
       "             ('KITE_CLIENT_ID', 'ZE1919'),\n",
       "             ('R2_ACCOUNT_ID', 'bb915458af20c94d1e79419ea3b78828'),\n",
       "             ('R2_ACCESS_KEY_ID', 'c7fe1c24cad4497076a96f70023184e2'),\n",
       "             ('R2_SECRET_ACCESS_KEY',\n",
       "              '25b9a32dd30e2f8b4473ad0e23cd405aafc5018d2bc304fa2923a6146b2118df'),\n",
       "             ('KITE_ACCESS_TOKEN', 'Ikf8qqvlGMARr2gTqH3O1YAy7vyWdqXe'),\n",
       "             ('ENVIRONMENT', 'development'),\n",
       "             ('DEBUG', 'false'),\n",
       "             ('SAMPLE_MODE', 'false'),\n",
       "             ('SAMPLE_SIZE', '1000'),\n",
       "             ('AMFI_NAV_TIMEOUT', '30'),\n",
       "             ('AMFI_SCHEME_TIMEOUT', '30'),\n",
       "             ('MAX_RETRIES', '3'),\n",
       "             ('RETRY_DELAY', '5'),\n",
       "             ('HISTORICAL_FETCH_DAYS', '90'),\n",
       "             ('HISTORICAL_BATCH_SIZE', '15'),\n",
       "             ('CHUNK_SIZE', '10000'),\n",
       "             ('MAX_MEMORY_GB', '2.0'),\n",
       "             ('PARQUET_COMPRESSION', 'snappy'),\n",
       "             ('CSV_ENCODING', 'utf-8'),\n",
       "             ('LOG_LEVEL', 'INFO'),\n",
       "             ('LOG_RETENTION_DAYS', '30'),\n",
       "             ('MIN_NAV_VALUE', '0.01'),\n",
       "             ('MAX_NAV_VALUE', '10000.0'),\n",
       "             ('MIN_SCHEME_CODE', '100000'),\n",
       "             ('MAX_SCHEME_CODE', '999999'),\n",
       "             ('MIN_LAUNCH_YEAR', '1990'),\n",
       "             ('MAX_LAUNCH_YEAR', '2030'),\n",
       "             ('MAX_NULL_PERCENTAGE', '0.10'),\n",
       "             ('MAX_DUPLICATE_PERCENTAGE', '0.05'),\n",
       "             ('ENABLE_MONITORING', 'false'),\n",
       "             ('ALERT_EMAIL', '')])"
      ]
     },
     "execution_count": 3,
     "metadata": {},
     "output_type": "execute_result"
    }
   ],
   "source": [
    "env"
   ]
  },
  {
   "cell_type": "code",
   "execution_count": 4,
   "id": "544dffc5",
   "metadata": {},
   "outputs": [],
   "source": [
    "%config SqlMagic.autopandas = True\n",
    "%config SqlMagic.feedback = False\n",
    "%config SqlMagic.displaycon = False"
   ]
  },
  {
   "cell_type": "code",
   "execution_count": 5,
   "id": "e3e36f7c",
   "metadata": {},
   "outputs": [],
   "source": [
    "con = duckdb.connect()"
   ]
  },
  {
   "cell_type": "code",
   "execution_count": 6,
   "id": "3d5fc095",
   "metadata": {},
   "outputs": [],
   "source": [
    "con.install_extension('httpfs')\n",
    "con.load_extension('httpfs')"
   ]
  },
  {
   "cell_type": "code",
   "execution_count": 7,
   "id": "5d43b85a",
   "metadata": {},
   "outputs": [
    {
     "data": {
      "text/plain": [
       "┌─────────┐\n",
       "│ Success │\n",
       "│ boolean │\n",
       "├─────────┤\n",
       "│ true    │\n",
       "└─────────┘"
      ]
     },
     "execution_count": 7,
     "metadata": {},
     "output_type": "execute_result"
    }
   ],
   "source": [
    "con.sql(f\"\"\"\n",
    "CREATE OR REPLACE SECRET (\n",
    "    TYPE r2,\n",
    "    KEY_ID '{env['R2_ACCESS_KEY_ID']}',\n",
    "    SECRET '{env['R2_SECRET_ACCESS_KEY']}',\n",
    "    ACCOUNT_ID '{env['R2_ACCOUNT_ID']}'\n",
    ");\n",
    "\"\"\")"
   ]
  },
  {
   "cell_type": "code",
   "execution_count": 8,
   "id": "a4e12ab9",
   "metadata": {},
   "outputs": [],
   "source": [
    "test = con.read_parquet(\"r2://financial-data-store/clean/commodities_bhav_clean.parquet\")"
   ]
  },
  {
   "cell_type": "code",
   "execution_count": 11,
   "id": "77aeb2df",
   "metadata": {},
   "outputs": [
    {
     "data": {
      "text/plain": [
       "┌────────────┬───────────┬─────────────────────┬─────────────────────┬────────┬────────┬────────┬────────┬────────┬───────────────────┬────────┬──────────┐\n",
       "│ instrument │  symbol   │      expiry_dt      │        date         │  open  │  high  │  low   │ close  │ volume │ volumeinthousands │ value  │ open_int │\n",
       "│  varchar   │  varchar  │    timestamp_ns     │    timestamp_ns     │ double │ double │ double │ double │ int64  │      varchar      │ double │  int64   │\n",
       "├────────────┼───────────┼─────────────────────┼─────────────────────┼────────┼────────┼────────┼────────┼────────┼───────────────────┼────────┼──────────┤\n",
       "│ FUTCOM     │ ALUMINIUM │ 2023-01-31 00:00:00 │ 2023-01-02 00:00:00 │ 208.85 │  209.7 │  208.5 │ 209.55 │    839 │ 4195.000 KGS      │ 8773.9 │     4033 │\n",
       "│ FUTCOM     │ ALUMINIUM │ 2023-02-28 00:00:00 │ 2023-01-02 00:00:00 │  210.0 │ 211.35 │  210.0 │  211.1 │     54 │ 270.000 KGS       │  568.6 │       90 │\n",
       "│ FUTCOM     │ ALUMINIUM │ 2023-03-31 00:00:00 │ 2023-01-02 00:00:00 │    0.0 │    0.0 │    0.0 │  212.8 │      0 │ 0.000 KGS         │    0.0 │        0 │\n",
       "│ FUTCOM     │ ALUMINIUM │ 2023-04-28 00:00:00 │ 2023-01-02 00:00:00 │    0.0 │    0.0 │    0.0 │ 214.35 │      0 │ 0.000 KGS         │    0.0 │        0 │\n",
       "│ FUTCOM     │ ALUMINIUM │ 2023-05-31 00:00:00 │ 2023-01-02 00:00:00 │    0.0 │    0.0 │    0.0 │ 216.15 │      0 │ 0.000 KGS         │    0.0 │        0 │\n",
       "└────────────┴───────────┴─────────────────────┴─────────────────────┴────────┴────────┴────────┴────────┴────────┴───────────────────┴────────┴──────────┘"
      ]
     },
     "execution_count": 11,
     "metadata": {},
     "output_type": "execute_result"
    }
   ],
   "source": [
    "test.limit(5)"
   ]
  },
  {
   "cell_type": "code",
   "execution_count": null,
   "id": "8aa2a2fc",
   "metadata": {},
   "outputs": [],
   "source": [
    "from pathlib import Path\n",
    "import pandas as pd"
   ]
  },
  {
   "cell_type": "code",
   "execution_count": null,
   "id": "504528c8",
   "metadata": {},
   "outputs": [],
   "source": [
    "def clean_cols(df):\n",
    "    df.columns = df.columns.str.strip().str.lower().str.replace(' ','_').str.replace('.','_').str.replace('(','').str.replace(')','')\n",
    "    return df\n",
    "    \n",
    "    "
   ]
  },
  {
   "cell_type": "code",
   "execution_count": null,
   "id": "e0f6ae5f",
   "metadata": {},
   "outputs": [],
   "source": [
    "col_select = ['Scheme Code', 'ISIN Div Payout/ISIN Growth', 'ISIN Div Reinvestment', 'Net Asset Value', 'Date']"
   ]
  },
  {
   "cell_type": "code",
   "execution_count": null,
   "id": "39aef71c",
   "metadata": {},
   "outputs": [],
   "source": [
    "raw_csvs = pd.concat([pd.read_csv(f)[col_select] for f in Path('/home/modiis/projects/mf_data_pipeline/data/raw/nav_historical').glob('*.csv')], ignore_index=True)"
   ]
  },
  {
   "cell_type": "code",
   "execution_count": null,
   "id": "ecf38380",
   "metadata": {},
   "outputs": [],
   "source": [
    "raw_csvs.head()"
   ]
  },
  {
   "cell_type": "code",
   "execution_count": null,
   "id": "18956173",
   "metadata": {},
   "outputs": [],
   "source": [
    "raw_csvs.shape"
   ]
  },
  {
   "cell_type": "code",
   "execution_count": null,
   "id": "196bfb96",
   "metadata": {},
   "outputs": [],
   "source": [
    "raw_csvs.head()"
   ]
  },
  {
   "cell_type": "code",
   "execution_count": null,
   "id": "721a6dc2",
   "metadata": {},
   "outputs": [],
   "source": [
    "clean_df = (raw_csvs\n",
    "         .rename(columns={\n",
    "            'Scheme Code': 'scheme_code',\n",
    "            'ISIN Div Payout/ISIN Growth': 'isin_growth', \n",
    "            'ISIN Div Reinvestment': 'isin_dividend',\n",
    "            'Net Asset Value': 'nav',\n",
    "            'Date': 'date'\n",
    "        })\n",
    "         .query('scheme_code.notnull() & nav.notnull() & date.notnull()')\n",
    "         .assign(scheme_code=lambda x: x['scheme_code'].astype(str),\n",
    "                 date = lambda x: pd.to_datetime(x['date'], format='%d-%b-%Y', errors='coerce'),\n",
    "                 nav = lambda x: pd.to_numeric(x['nav'], errors='coerce'),         \n",
    "        )\n",
    "        )"
   ]
  },
  {
   "cell_type": "code",
   "execution_count": null,
   "id": "40f17d3b",
   "metadata": {},
   "outputs": [],
   "source": [
    "clean_df.head()"
   ]
  },
  {
   "cell_type": "code",
   "execution_count": null,
   "id": "b7be2e2c",
   "metadata": {},
   "outputs": [],
   "source": [
    "from config.settings import R2"
   ]
  },
  {
   "cell_type": "code",
   "execution_count": null,
   "id": "13fb68fb",
   "metadata": {},
   "outputs": [],
   "source": [
    "r2 = R2()"
   ]
  },
  {
   "cell_type": "code",
   "execution_count": null,
   "id": "3512dfeb",
   "metadata": {},
   "outputs": [],
   "source": [
    "path = r2.get_full_path('raw','nav_historical')"
   ]
  },
  {
   "cell_type": "code",
   "execution_count": null,
   "id": "691d7ab5",
   "metadata": {},
   "outputs": [],
   "source": [
    "path"
   ]
  },
  {
   "cell_type": "code",
   "execution_count": null,
   "id": "57838002",
   "metadata": {},
   "outputs": [],
   "source": [
    "con.write_parquet(clean_df, path, overwrite=True)"
   ]
  },
  {
   "cell_type": "code",
   "execution_count": null,
   "id": "4e549f54",
   "metadata": {},
   "outputs": [],
   "source": [
    "FILE_PATH"
   ]
  },
  {
   "cell_type": "code",
   "execution_count": null,
   "id": "b49b9ff9",
   "metadata": {},
   "outputs": [],
   "source": [
    "con.read_parquet(r2)"
   ]
  },
  {
   "cell_type": "code",
   "execution_count": null,
   "id": "583070ae",
   "metadata": {},
   "outputs": [],
   "source": [
    "# Register your DataFrame with DuckDB\n",
    "con.register('clean_df_table', clean_df)"
   ]
  },
  {
   "cell_type": "code",
   "execution_count": null,
   "id": "196e48a2",
   "metadata": {},
   "outputs": [],
   "source": [
    "con.execute(f\"\"\"\n",
    "    COPY clean_df_table TO '{path}' \n",
    "    (FORMAT PARQUET)\n",
    "\"\"\")"
   ]
  },
  {
   "cell_type": "code",
   "execution_count": null,
   "id": "e7cd6bce",
   "metadata": {},
   "outputs": [],
   "source": [
    "con.read_parquet(pat)"
   ]
  }
 ],
 "metadata": {
  "kernelspec": {
   "display_name": "mf_data_pipeline (3.10.13)",
   "language": "python",
   "name": "python3"
  },
  "language_info": {
   "codemirror_mode": {
    "name": "ipython",
    "version": 3
   },
   "file_extension": ".py",
   "mimetype": "text/x-python",
   "name": "python",
   "nbconvert_exporter": "python",
   "pygments_lexer": "ipython3",
   "version": "3.10.13"
  }
 },
 "nbformat": 4,
 "nbformat_minor": 5
}
