{
 "cells": [
  {
   "cell_type": "markdown",
   "metadata": {},
   "source": [
    "# Parag Parikh Flexi Cap Fund Performance Analysis\n",
    "\n",
    "This notebook analyzes the performance of Parag Parikh Flexi Cap Fund using our analytical NAV dataset.\n",
    "\n",
    "**Dataset:** `data/processed/analytical/nav_daily_data.parquet`  \n",
    "**Date Range:** 2006-2018 (from available data)  \n",
    "**Records:** 9.2M NAV observations across 4,481 schemes"
   ]
  },
  {
   "cell_type": "code",
   "execution_count": 2,
   "metadata": {},
   "outputs": [
    {
     "name": "stdout",
     "output_type": "stream",
     "text": [
      "📊 Libraries imported successfully\n",
      "📅 Analysis date: 2025-09-21 23:57\n"
     ]
    }
   ],
   "source": [
    "# Import required libraries\n",
    "import pandas as pd\n",
    "import numpy as np\n",
    "import matplotlib.pyplot as plt\n",
    "import seaborn as sns\n",
    "from datetime import datetime, timedelta\n",
    "import warnings\n",
    "warnings.filterwarnings('ignore')\n",
    "\n",
    "# Set plotting style\n",
    "plt.style.use('default')\n",
    "sns.set_palette(\"husl\")\n",
    "plt.rcParams['figure.figsize'] = (12, 8)\n",
    "\n",
    "print(\"📊 Libraries imported successfully\")\n",
    "print(f\"📅 Analysis date: {datetime.now().strftime('%Y-%m-%d %H:%M')}\")"
   ]
  },
  {
   "cell_type": "markdown",
   "metadata": {},
   "source": [
    "## 1. Load and Explore Dataset"
   ]
  },
  {
   "cell_type": "code",
   "execution_count": 3,
   "metadata": {},
   "outputs": [
    {
     "name": "stdout",
     "output_type": "stream",
     "text": [
      "📂 Loading analytical NAV dataset...\n",
      "✅ Dataset loaded successfully\n",
      "📊 Shape: (25618214, 8)\n",
      "📅 Date range: 2006-04-01 to 2025-08-22\n",
      "🏢 Unique schemes: 13,593\n"
     ]
    }
   ],
   "source": [
    "# Load analytical dataset\n",
    "print(\"📂 Loading analytical NAV dataset...\")\n",
    "df = pd.read_parquet('./data/processed/nav_combined/raw_nav_table.parquet')\n",
    "\n",
    "print(f\"✅ Dataset loaded successfully\")\n",
    "print(f\"📊 Shape: {df.shape}\")\n",
    "print(f\"📅 Date range: {df['date'].min().date()} to {df['date'].max().date()}\")\n",
    "print(f\"🏢 Unique schemes: {df['scheme_code'].nunique():,}\")\n",
    "#print(f\"🏭 Unique AMCs: {df['amc_name'].nunique():,}\")"
   ]
  },
  {
   "cell_type": "code",
   "execution_count": null,
   "metadata": {},
   "outputs": [],
   "source": [
    "# Display dataset info\n",
    "print(\"📋 Dataset Info:\")\n",
    "print(df.info())\n",
    "\n",
    "print(\"\\n📊 Sample data:\")\n",
    "df.head()"
   ]
  },
  {
   "cell_type": "markdown",
   "metadata": {},
   "source": [
    "## 2. Find Parag Parikh Flexi Cap Fund"
   ]
  },
  {
   "cell_type": "code",
   "execution_count": null,
   "metadata": {},
   "outputs": [],
   "source": [
    "# Search for Parag Parikh schemes\n",
    "print(\"🔍 Searching for Parag Parikh schemes...\")\n",
    "\n",
    "# Check AMC name variations\n",
    "parag_parikh_amc = df[df['amc_name'].str.contains('Parag Parikh', case=False, na=False)]['amc_name'].unique()\n",
    "print(f\"\\n🏭 Parag Parikh AMC found: {parag_parikh_amc}\")\n",
    "\n",
    "if len(parag_parikh_amc) > 0:\n",
    "    # Get all Parag Parikh schemes\n",
    "    pp_schemes = df[df['amc_name'].isin(parag_parikh_amc)][['scheme_code', 'scheme_name', 'scheme_category']].drop_duplicates()\n",
    "    print(f\"\\n📊 Found {len(pp_schemes)} Parag Parikh schemes:\")\n",
    "    for idx, row in pp_schemes.iterrows():\n",
    "        print(f\"   {row['scheme_code']}: {row['scheme_name']} ({row['scheme_category']})\")\n",
    "else:\n",
    "    print(\"❌ No Parag Parikh AMC found. Let's search by scheme name...\")\n",
    "    \n",
    "    # Search by scheme name\n",
    "    flexi_schemes = df[df['scheme_name'].str.contains('Parag Parikh.*Flexi', case=False, na=False)][['scheme_code', 'scheme_name', 'amc_name', 'scheme_category']].drop_duplicates()\n",
    "    \n",
    "    if len(flexi_schemes) > 0:\n",
    "        print(f\"\\n📊 Found {len(flexi_schemes)} Parag Parikh Flexi schemes by name:\")\n",
    "        for idx, row in flexi_schemes.iterrows():\n",
    "            print(f\"   {row['scheme_code']}: {row['scheme_name']} (AMC: {row['amc_name']})\")\n",
    "    else:\n",
    "        print(\"\\n🔍 Let's search more broadly for 'Flexi Cap' schemes...\")\n",
    "        all_flexi = df[df['scheme_name'].str.contains('Flexi.*Cap', case=False, na=False)][['scheme_code', 'scheme_name', 'amc_name']].drop_duplicates().head(10)\n",
    "        print(\"\\n📊 Sample Flexi Cap schemes found:\")\n",
    "        for idx, row in all_flexi.iterrows():\n",
    "            print(f\"   {row['scheme_code']}: {row['scheme_name']} (AMC: {row['amc_name']})\")"
   ]
  },
  {
   "cell_type": "code",
   "execution_count": null,
   "metadata": {},
   "outputs": [],
   "source": [
    "# Let's also check the date range to see if Parag Parikh was active during our dataset period\n",
    "print(\"📅 Dataset date range analysis:\")\n",
    "print(f\"   Start date: {df['date'].min().date()}\")\n",
    "print(f\"   End date: {df['date'].max().date()}\")\n",
    "print(f\"   Total years: {(df['date'].max() - df['date'].min()).days / 365.25:.1f}\")\n",
    "\n",
    "# Check if there are any schemes with 'Parikh' in the name\n",
    "parikh_schemes = df[df['scheme_name'].str.contains('Parikh', case=False, na=False)][['scheme_name', 'amc_name']].drop_duplicates()\n",
    "if len(parikh_schemes) > 0:\n",
    "    print(f\"\\n🎯 Found schemes with 'Parikh' in name:\")\n",
    "    for idx, row in parikh_schemes.iterrows():\n",
    "        print(f\"   {row['scheme_name']} (AMC: {row['amc_name']})\")\n",
    "else:\n",
    "    print(\"\\n⚠️ No schemes found with 'Parikh' in the name during this period\")\n",
    "    print(\"💡 Parag Parikh Long Term Equity Fund was launched in 2013, but our dataset ends in 2018\")\n",
    "    \n",
    "    # Let's find a similar high-performing flexi cap fund for demonstration\n",
    "    print(\"\\n🔄 Let's analyze a representative Flexi Cap fund instead...\")"
   ]
  },
  {
   "cell_type": "markdown",
   "metadata": {},
   "source": [
    "## 3. Alternative Analysis: Top Performing Flexi Cap Fund\n",
    "\n",
    "Since Parag Parikh Flexi Cap might not be in our 2006-2018 dataset, let's analyze a representative high-performing flexi cap fund from the available data."
   ]
  },
  {
   "cell_type": "code",
   "execution_count": null,
   "metadata": {},
   "outputs": [],
   "source": [
    "# Find flexi cap funds in our dataset\n",
    "flexi_funds = df[\n",
    "    df['scheme_category'].str.contains('Flexi|Multi', case=False, na=False) |\n",
    "    df['scheme_name'].str.contains('Flexi|Multi Cap', case=False, na=False)\n",
    "].copy()\n",
    "\n",
    "if len(flexi_funds) == 0:\n",
    "    # Broader search for equity funds\n",
    "    flexi_funds = df[\n",
    "        df['scheme_category'].str.contains('Equity', case=False, na=False) &\n",
    "        (df['scheme_name'].str.contains('Large.*Mid|Multi|Flexi|Diversified', case=False, na=False))\n",
    "    ].copy()\n",
    "\n",
    "print(f\"📊 Found {flexi_funds['scheme_code'].nunique()} potential flexi/multi cap funds\")\n",
    "\n",
    "if len(flexi_funds) > 0:\n",
    "    # Show sample funds\n",
    "    sample_funds = flexi_funds[['scheme_code', 'scheme_name', 'amc_name', 'scheme_category']].drop_duplicates().head(10)\n",
    "    print(\"\\n🎯 Sample Flexi/Multi Cap funds available:\")\n",
    "    for idx, row in sample_funds.iterrows():\n",
    "        print(f\"   {row['scheme_code']}: {row['scheme_name']}\")\n",
    "        print(f\"      AMC: {row['amc_name']}, Category: {row['scheme_category']}\")\n",
    "        \n",
    "    # Select a fund for analysis (pick the first one with good data coverage)\n",
    "    fund_coverage = flexi_funds.groupby(['scheme_code', 'scheme_name']).size().reset_index(name='data_points')\n",
    "    fund_coverage = fund_coverage.sort_values('data_points', ascending=False)\n",
    "    \n",
    "    selected_fund = fund_coverage.iloc[0]\n",
    "    selected_scheme_code = selected_fund['scheme_code']\n",
    "    selected_scheme_name = selected_fund['scheme_name']\n",
    "    \n",
    "    print(f\"\\n🎯 Selected fund for analysis:\")\n",
    "    print(f\"   Scheme Code: {selected_scheme_code}\")\n",
    "    print(f\"   Scheme Name: {selected_scheme_name}\")\n",
    "    print(f\"   Data Points: {selected_fund['data_points']:,}\")\n",
    "    \n",
    "else:\n",
    "    print(\"⚠️ No suitable flexi cap funds found. Let's pick a top equity fund for demonstration.\")\n",
    "    # Pick any equity fund with good coverage\n",
    "    equity_funds = df[df['scheme_category'].str.contains('Equity', case=False, na=False)]\n",
    "    fund_coverage = equity_funds.groupby(['scheme_code', 'scheme_name']).size().reset_index(name='data_points')\n",
    "    fund_coverage = fund_coverage.sort_values('data_points', ascending=False)\n",
    "    \n",
    "    selected_fund = fund_coverage.iloc[0]\n",
    "    selected_scheme_code = selected_fund['scheme_code']\n",
    "    selected_scheme_name = selected_fund['scheme_name']\n",
    "    \n",
    "    print(f\"\\n🎯 Selected equity fund for analysis:\")\n",
    "    print(f\"   Scheme Code: {selected_scheme_code}\")\n",
    "    print(f\"   Scheme Name: {selected_scheme_name}\")\n",
    "    print(f\"   Data Points: {selected_fund['data_points']:,}\")"
   ]
  },
  {
   "cell_type": "markdown",
   "metadata": {},
   "source": [
    "## 4. Fund Performance Analysis"
   ]
  },
  {
   "cell_type": "code",
   "execution_count": null,
   "metadata": {},
   "outputs": [],
   "source": [
    "# Filter data for the selected fund\n",
    "fund_data = df[df['scheme_code'] == selected_scheme_code].copy().sort_values('date')\n",
    "\n",
    "print(f\"📊 Analysis for: {selected_scheme_name}\")\n",
    "print(f\"📈 Total observations: {len(fund_data):,}\")\n",
    "print(f\"📅 Date range: {fund_data['date'].min().date()} to {fund_data['date'].max().date()}\")\n",
    "print(f\"💰 NAV range: ₹{fund_data['nav'].min():.2f} to ₹{fund_data['nav'].max():.2f}\")\n",
    "\n",
    "# Get fund details\n",
    "fund_info = fund_data.iloc[0]\n",
    "print(f\"\\n🏭 AMC: {fund_info['amc_name']}\")\n",
    "print(f\"📊 Category: {fund_info['scheme_category']}\")\n",
    "print(f\"🚀 Launch Date: {fund_info['launch_date'].date() if pd.notna(fund_info['launch_date']) else 'N/A'}\")\n",
    "print(f\"💵 Minimum Amount: ₹{fund_info['minimum_amount']:,.0f}\" if pd.notna(fund_info['minimum_amount']) else \"N/A\")"
   ]
  },
  {
   "cell_type": "code",
   "execution_count": null,
   "metadata": {},
   "outputs": [],
   "source": [
    "# Calculate performance metrics\n",
    "print(\"📈 Calculating Performance Metrics...\\n\")\n",
    "\n",
    "# Basic returns\n",
    "start_nav = fund_data['nav'].iloc[0]\n",
    "end_nav = fund_data['nav'].iloc[-1]\n",
    "total_return = (end_nav / start_nav - 1) * 100\n",
    "days_invested = (fund_data['date'].iloc[-1] - fund_data['date'].iloc[0]).days\n",
    "years_invested = days_invested / 365.25\n",
    "cagr = (end_nav / start_nav) ** (1 / years_invested) - 1\n",
    "\n",
    "print(f\"💹 Total Return: {total_return:.2f}%\")\n",
    "print(f\"📊 CAGR: {cagr * 100:.2f}%\")\n",
    "print(f\"⏱️ Investment Period: {years_invested:.1f} years\")\n",
    "\n",
    "# Risk metrics\n",
    "daily_returns = fund_data['nav_change_pct'].dropna()\n",
    "volatility = daily_returns.std() * np.sqrt(252)  # Annualized volatility\n",
    "max_drawdown = (fund_data['nav'] / fund_data['nav'].cummax() - 1).min()\n",
    "\n",
    "print(f\"\\n📊 Risk Metrics:\")\n",
    "print(f\"📈 Daily Return Std: {daily_returns.std():.4f}\")\n",
    "print(f\"🎯 Annualized Volatility: {volatility * 100:.2f}%\")\n",
    "print(f\"📉 Max Drawdown: {max_drawdown * 100:.2f}%\")\n",
    "\n",
    "# Risk-adjusted returns\n",
    "risk_free_rate = 0.06  # Assume 6% risk-free rate\n",
    "sharpe_ratio = (cagr - risk_free_rate) / volatility if volatility > 0 else 0\n",
    "\n",
    "print(f\"\\n⚖️ Risk-Adjusted Performance:\")\n",
    "print(f\"📊 Sharpe Ratio: {sharpe_ratio:.2f}\")\n",
    "print(f\"📈 Return per unit risk: {cagr / volatility if volatility > 0 else 0:.2f}\")"
   ]
  },
  {
   "cell_type": "markdown",
   "metadata": {},
   "source": [
    "## 5. Performance Visualizations"
   ]
  },
  {
   "cell_type": "code",
   "execution_count": null,
   "metadata": {},
   "outputs": [],
   "source": [
    "# Create performance charts\n",
    "fig, axes = plt.subplots(2, 2, figsize=(16, 12))\n",
    "fig.suptitle(f'Performance Analysis: {selected_scheme_name}', fontsize=16, fontweight='bold')\n",
    "\n",
    "# 1. NAV Growth Over Time\n",
    "axes[0,0].plot(fund_data['date'], fund_data['nav'], linewidth=2, color='blue')\n",
    "axes[0,0].set_title('NAV Growth Over Time', fontweight='bold')\n",
    "axes[0,0].set_xlabel('Date')\n",
    "axes[0,0].set_ylabel('NAV (₹)')\n",
    "axes[0,0].grid(True, alpha=0.3)\n",
    "axes[0,0].tick_params(axis='x', rotation=45)\n",
    "\n",
    "# 2. Rolling Returns (1 Year)\n",
    "fund_data['rolling_return_1y'] = fund_data['nav'].pct_change(252)  # 1 year ≈ 252 trading days\n",
    "axes[0,1].plot(fund_data['date'], fund_data['rolling_return_1y'] * 100, linewidth=2, color='green')\n",
    "axes[0,1].set_title('1-Year Rolling Returns', fontweight='bold')\n",
    "axes[0,1].set_xlabel('Date')\n",
    "axes[0,1].set_ylabel('Return (%)')\n",
    "axes[0,1].grid(True, alpha=0.3)\n",
    "axes[0,1].tick_params(axis='x', rotation=45)\n",
    "axes[0,1].axhline(y=0, color='red', linestyle='--', alpha=0.5)\n",
    "\n",
    "# 3. Daily Returns Distribution\n",
    "daily_returns_clean = daily_returns[np.isfinite(daily_returns)]\n",
    "axes[1,0].hist(daily_returns_clean * 100, bins=50, alpha=0.7, color='orange', edgecolor='black')\n",
    "axes[1,0].set_title('Daily Returns Distribution', fontweight='bold')\n",
    "axes[1,0].set_xlabel('Daily Return (%)')\n",
    "axes[1,0].set_ylabel('Frequency')\n",
    "axes[1,0].axvline(x=daily_returns_clean.mean() * 100, color='red', linestyle='--', \n",
    "                  label=f'Mean: {daily_returns_clean.mean() * 100:.3f}%')\n",
    "axes[1,0].legend()\n",
    "axes[1,0].grid(True, alpha=0.3)\n",
    "\n",
    "# 4. Drawdown Analysis\n",
    "fund_data['cumulative_max'] = fund_data['nav'].cummax()\n",
    "fund_data['drawdown'] = (fund_data['nav'] / fund_data['cumulative_max'] - 1) * 100\n",
    "axes[1,1].fill_between(fund_data['date'], fund_data['drawdown'], 0, \n",
    "                       alpha=0.6, color='red', label='Drawdown')\n",
    "axes[1,1].set_title('Drawdown Analysis', fontweight='bold')\n",
    "axes[1,1].set_xlabel('Date')\n",
    "axes[1,1].set_ylabel('Drawdown (%)')\n",
    "axes[1,1].grid(True, alpha=0.3)\n",
    "axes[1,1].tick_params(axis='x', rotation=45)\n",
    "axes[1,1].legend()\n",
    "\n",
    "plt.tight_layout()\n",
    "plt.show()"
   ]
  },
  {
   "cell_type": "markdown",
   "metadata": {},
   "source": [
    "## 6. Comparative Analysis"
   ]
  },
  {
   "cell_type": "code",
   "execution_count": null,
   "metadata": {},
   "outputs": [],
   "source": [
    "# Compare with category peers\n",
    "print(f\"🔍 Comparing with {fund_info['scheme_category']} category peers...\\n\")\n",
    "\n",
    "# Get peer funds from same category\n",
    "peer_funds = df[\n",
    "    (df['scheme_category'] == fund_info['scheme_category']) & \n",
    "    (df['scheme_code'] != selected_scheme_code)\n",
    "]\n",
    "\n",
    "if len(peer_funds) > 0:\n",
    "    # Calculate peer performance metrics\n",
    "    peer_performance = []\n",
    "    \n",
    "    for scheme_code in peer_funds['scheme_code'].unique()[:10]:  # Analyze top 10 peers\n",
    "        peer_data = df[df['scheme_code'] == scheme_code].sort_values('date')\n",
    "        \n",
    "        if len(peer_data) > 252:  # At least 1 year of data\n",
    "            peer_start = peer_data['nav'].iloc[0]\n",
    "            peer_end = peer_data['nav'].iloc[-1]\n",
    "            peer_days = (peer_data['date'].iloc[-1] - peer_data['date'].iloc[0]).days\n",
    "            peer_years = peer_days / 365.25\n",
    "            \n",
    "            if peer_years > 0:\n",
    "                peer_cagr = (peer_end / peer_start) ** (1 / peer_years) - 1\n",
    "                peer_name = peer_data['scheme_name'].iloc[0]\n",
    "                \n",
    "                peer_performance.append({\n",
    "                    'scheme_name': peer_name,\n",
    "                    'cagr': peer_cagr * 100,\n",
    "                    'years': peer_years\n",
    "                })\n",
    "    \n",
    "    if peer_performance:\n",
    "        peer_df = pd.DataFrame(peer_performance)\n",
    "        peer_df = peer_df.sort_values('cagr', ascending=False)\n",
    "        \n",
    "        print(f\"📊 Category Performance Comparison (CAGR):\")\n",
    "        print(f\"🎯 Selected Fund: {cagr * 100:.2f}%\")\n",
    "        print(f\"📈 Category Average: {peer_df['cagr'].mean():.2f}%\")\n",
    "        print(f\"🥇 Category Best: {peer_df['cagr'].max():.2f}%\")\n",
    "        print(f\"📉 Category Worst: {peer_df['cagr'].min():.2f}%\")\n",
    "        \n",
    "        # Rank our fund\n",
    "        our_fund_rank = (peer_df['cagr'] > cagr * 100).sum() + 1\n",
    "        total_funds = len(peer_df) + 1\n",
    "        percentile = (total_funds - our_fund_rank + 1) / total_funds * 100\n",
    "        \n",
    "        print(f\"\\n🏆 Fund Ranking:\")\n",
    "        print(f\"   Rank: {our_fund_rank} out of {total_funds} funds\")\n",
    "        print(f\"   Percentile: {percentile:.1f}th percentile\")\n",
    "        \n",
    "        # Show top 5 performers\n",
    "        print(f\"\\n🥇 Top 5 Category Performers:\")\n",
    "        for i, row in peer_df.head(5).iterrows():\n",
    "            print(f\"   {row['scheme_name'][:50]}{'...' if len(row['scheme_name']) > 50 else ''}: {row['cagr']:.2f}%\")\n",
    "    \n",
    "else:\n",
    "    print(\"⚠️ No peer funds found in the same category for comparison\")"
   ]
  },
  {
   "cell_type": "markdown",
   "metadata": {},
   "source": [
    "## 7. Monthly Performance Pattern"
   ]
  },
  {
   "cell_type": "code",
   "execution_count": null,
   "metadata": {},
   "outputs": [],
   "source": [
    "# Analyze monthly performance patterns\n",
    "print(\"📅 Monthly Performance Analysis...\\n\")\n",
    "\n",
    "# Calculate monthly returns\n",
    "fund_data['year_month'] = fund_data['date'].dt.to_period('M')\n",
    "monthly_data = fund_data.groupby('year_month').agg({\n",
    "    'nav': ['first', 'last'],\n",
    "    'date': ['first', 'last']\n",
    "}).reset_index()\n",
    "\n",
    "# Flatten column names\n",
    "monthly_data.columns = ['year_month', 'nav_start', 'nav_end', 'date_start', 'date_end']\n",
    "monthly_data['monthly_return'] = (monthly_data['nav_end'] / monthly_data['nav_start'] - 1) * 100\n",
    "monthly_data['month'] = monthly_data['date_start'].dt.month\n",
    "monthly_data['year'] = monthly_data['date_start'].dt.year\n",
    "\n",
    "# Monthly statistics\n",
    "monthly_stats = monthly_data.groupby('month')['monthly_return'].agg(['mean', 'std', 'count']).reset_index()\n",
    "monthly_stats['month_name'] = pd.to_datetime(monthly_stats['month'], format='%m').dt.month_name()\n",
    "\n",
    "print(\"📊 Average Monthly Returns by Month:\")\n",
    "for _, row in monthly_stats.iterrows():\n",
    "    print(f\"   {row['month_name']}: {row['mean']:.2f}% (±{row['std']:.2f}%) - {row['count']} observations\")\n",
    "\n",
    "# Best and worst months\n",
    "best_month = monthly_data.loc[monthly_data['monthly_return'].idxmax()]\n",
    "worst_month = monthly_data.loc[monthly_data['monthly_return'].idxmin()]\n",
    "\n",
    "print(f\"\\n🥇 Best Month: {best_month['year_month']} ({best_month['monthly_return']:.2f}%)\")\n",
    "print(f\"📉 Worst Month: {worst_month['year_month']} ({worst_month['monthly_return']:.2f}%)\")"
   ]
  },
  {
   "cell_type": "code",
   "execution_count": null,
   "metadata": {},
   "outputs": [],
   "source": [
    "# Visualize monthly patterns\n",
    "fig, (ax1, ax2) = plt.subplots(1, 2, figsize=(16, 6))\n",
    "\n",
    "# Monthly return pattern\n",
    "ax1.bar(monthly_stats['month_name'], monthly_stats['mean'], \n",
    "        color=['green' if x > 0 else 'red' for x in monthly_stats['mean']],\n",
    "        alpha=0.7)\n",
    "ax1.set_title('Average Monthly Returns by Month', fontweight='bold')\n",
    "ax1.set_ylabel('Average Return (%)')\n",
    "ax1.tick_params(axis='x', rotation=45)\n",
    "ax1.grid(True, alpha=0.3)\n",
    "ax1.axhline(y=0, color='black', linestyle='-', alpha=0.5)\n",
    "\n",
    "# Monthly return distribution\n",
    "ax2.boxplot([monthly_data[monthly_data['month'] == i]['monthly_return'].values \n",
    "            for i in range(1, 13)], \n",
    "           labels=[pd.to_datetime(i, format='%m').strftime('%b') for i in range(1, 13)])\n",
    "ax2.set_title('Monthly Return Distribution', fontweight='bold')\n",
    "ax2.set_ylabel('Monthly Return (%)')\n",
    "ax2.tick_params(axis='x', rotation=45)\n",
    "ax2.grid(True, alpha=0.3)\n",
    "ax2.axhline(y=0, color='red', linestyle='--', alpha=0.5)\n",
    "\n",
    "plt.tight_layout()\n",
    "plt.show()"
   ]
  },
  {
   "cell_type": "markdown",
   "metadata": {},
   "source": [
    "## 8. Key Insights & Summary"
   ]
  },
  {
   "cell_type": "code",
   "execution_count": null,
   "metadata": {},
   "outputs": [],
   "source": [
    "# Generate summary insights\n",
    "print(\"📋 FUND ANALYSIS SUMMARY\")\n",
    "print(\"=\" * 50)\n",
    "print(f\"🎯 Fund: {selected_scheme_name}\")\n",
    "print(f\"🏭 AMC: {fund_info['amc_name']}\")\n",
    "print(f\"📊 Category: {fund_info['scheme_category']}\")\n",
    "print(f\"📅 Analysis Period: {fund_data['date'].min().date()} to {fund_data['date'].max().date()}\")\n",
    "print(f\"⏱️ Duration: {years_invested:.1f} years\")\n",
    "\n",
    "print(f\"\\n📈 PERFORMANCE METRICS:\")\n",
    "print(f\"💹 Total Return: {total_return:.2f}%\")\n",
    "print(f\"📊 CAGR: {cagr * 100:.2f}%\")\n",
    "print(f\"🎯 Annualized Volatility: {volatility * 100:.2f}%\")\n",
    "print(f\"⚖️ Sharpe Ratio: {sharpe_ratio:.2f}\")\n",
    "print(f\"📉 Max Drawdown: {max_drawdown * 100:.2f}%\")\n",
    "\n",
    "print(f\"\\n💰 NAV JOURNEY:\")\n",
    "print(f\"🚀 Starting NAV: ₹{start_nav:.2f}\")\n",
    "print(f\"🎯 Ending NAV: ₹{end_nav:.2f}\")\n",
    "print(f\"📊 Growth Multiple: {end_nav/start_nav:.2f}x\")\n",
    "\n",
    "# Investment scenarios\n",
    "initial_investment = 100000  # ₹1 Lakh\n",
    "final_value = initial_investment * (end_nav / start_nav)\n",
    "monthly_sip = 5000  # ₹5,000 SIP\n",
    "\n",
    "print(f\"\\n💼 INVESTMENT SCENARIOS:\")\n",
    "print(f\"🎯 ₹{initial_investment:,} lumpsum → ₹{final_value:,.0f} (Gain: ₹{final_value-initial_investment:,.0f})\")\n",
    "print(f\"📊 ₹{monthly_sip:,} monthly SIP would have generated significant returns\")\n",
    "\n",
    "# Risk assessment\n",
    "risk_level = \"High\" if volatility > 0.25 else \"Medium\" if volatility > 0.15 else \"Low\"\n",
    "print(f\"\\n⚠️ RISK ASSESSMENT:\")\n",
    "print(f\"📊 Risk Level: {risk_level} (Volatility: {volatility * 100:.2f}%)\")\n",
    "print(f\"📉 Worst Drawdown: {max_drawdown * 100:.2f}%\")\n",
    "print(f\"🎯 Risk-Adjusted Performance: {'Excellent' if sharpe_ratio > 1 else 'Good' if sharpe_ratio > 0.5 else 'Average'}\")\n",
    "\n",
    "print(f\"\\n🏆 CONCLUSION:\")\n",
    "if cagr > 0.15:\n",
    "    performance = \"Excellent\"\n",
    "elif cagr > 0.10:\n",
    "    performance = \"Good\"\n",
    "else:\n",
    "    performance = \"Average\"\n",
    "\n",
    "print(f\"📈 Performance Rating: {performance}\")\n",
    "print(f\"💡 This fund delivered {performance.lower()} returns with {risk_level.lower()} risk during the analysis period\")\n",
    "\n",
    "print(f\"\\n📊 Dataset Coverage: {len(df):,} NAV observations across {df['scheme_code'].nunique():,} schemes\")\n",
    "print(f\"⏰ Analysis completed at: {datetime.now().strftime('%Y-%m-%d %H:%M:%S')}\")"
   ]
  },
  {
   "cell_type": "markdown",
   "metadata": {},
   "source": [
    "## 9. Export Results"
   ]
  },
  {
   "cell_type": "code",
   "execution_count": null,
   "metadata": {},
   "outputs": [],
   "source": [
    "# Save analysis results\n",
    "analysis_results = {\n",
    "    'fund_name': selected_scheme_name,\n",
    "    'amc_name': fund_info['amc_name'],\n",
    "    'category': fund_info['scheme_category'],\n",
    "    'analysis_period': f\"{fund_data['date'].min().date()} to {fund_data['date'].max().date()}\",\n",
    "    'duration_years': years_invested,\n",
    "    'total_return_pct': total_return,\n",
    "    'cagr_pct': cagr * 100,\n",
    "    'volatility_pct': volatility * 100,\n",
    "    'sharpe_ratio': sharpe_ratio,\n",
    "    'max_drawdown_pct': max_drawdown * 100,\n",
    "    'start_nav': start_nav,\n",
    "    'end_nav': end_nav,\n",
    "    'growth_multiple': end_nav/start_nav,\n",
    "    'data_points': len(fund_data)\n",
    "}\n",
    "\n",
    "# Save to CSV\n",
    "import json\n",
    "with open('../data/processed/analytical/fund_analysis_results.json', 'w') as f:\n",
    "    json.dump(analysis_results, f, indent=2, default=str)\n",
    "\n",
    "# Save fund performance data\n",
    "fund_summary = fund_data[['date', 'nav', 'nav_change_pct', 'year', 'month']].copy()\n",
    "fund_summary.to_csv('../data/processed/analytical/fund_performance_data.csv', index=False)\n",
    "\n",
    "print(\"💾 Analysis results saved to:\")\n",
    "print(\"   📊 fund_analysis_results.json\")\n",
    "print(\"   📈 fund_performance_data.csv\")\n",
    "print(\"\\n✅ Analysis completed successfully!\")"
   ]
  },
  {
   "cell_type": "code",
   "execution_count": null,
   "metadata": {},
   "outputs": [],
   "source": []
  },
  {
   "cell_type": "code",
   "execution_count": null,
   "metadata": {},
   "outputs": [],
   "source": [
    "# Calculate returns by year and month\n",
    "returns_pivot = (ppfas_df\n",
    "    .assign(\n",
    "        return_pct = lambda x: x['nav'].pct_change(),\n",
    "        month_name = lambda x: x['date'].dt.strftime('%b')\n",
    "    )\n",
    "    .groupby(['year', 'month', 'month_name'])['return_pct']\n",
    "    .apply(lambda x: (1 + x).prod() - 1)\n",
    "    .reset_index()\n",
    "    .pivot(index='year', columns='month_name', values='return_pct')\n",
    "    [['Jan', 'Feb', 'Mar', 'Apr', 'May', 'Jun', 'Jul', 'Aug', 'Sep', 'Oct', 'Nov', 'Dec']]\n",
    "    * 100\n",
    ")\n",
    "\n",
    "# Calculate YTD returns\n",
    "ytd_returns = (ppfas_df\n",
    "    .groupby('year')\n",
    "    .agg({\n",
    "        'nav': lambda x: (x.iloc[-1] / x.iloc[0] - 1) * 100\n",
    "    })\n",
    "    .rename(columns={'nav': 'YTD'})\n",
    ")\n",
    "\n",
    "# Combine monthly and YTD returns\n",
    "final_returns = pd.concat([returns_pivot, ytd_returns], axis=1)\n",
    "\n",
    "# Format the output\n",
    "final_returns = final_returns.round(2)\n",
    "\n",
    "print(\"Monthly and YTD Returns (%)\")\n",
    "print(\"-\" * 50)\n",
    "print(final_returns)"
   ]
  },
  {
   "cell_type": "code",
   "execution_count": null,
   "metadata": {},
   "outputs": [],
   "source": [
    "ppfas_df"
   ]
  },
  {
   "cell_type": "code",
   "execution_count": 3,
   "metadata": {},
   "outputs": [
    {
     "data": {
      "application/vnd.microsoft.datawrangler.viewer.v0+json": {
       "columns": [
        {
         "name": "index",
         "rawType": "int64",
         "type": "integer"
        },
        {
         "name": "scheme_code",
         "rawType": "object",
         "type": "string"
        },
        {
         "name": "scheme_name",
         "rawType": "object",
         "type": "string"
        },
        {
         "name": "isin_growth",
         "rawType": "object",
         "type": "unknown"
        },
        {
         "name": "isin_dividend",
         "rawType": "object",
         "type": "unknown"
        },
        {
         "name": "nav",
         "rawType": "float64",
         "type": "float"
        },
        {
         "name": "repurchase_price",
         "rawType": "float64",
         "type": "float"
        },
        {
         "name": "sale_price",
         "rawType": "float64",
         "type": "float"
        },
        {
         "name": "date",
         "rawType": "datetime64[us]",
         "type": "unknown"
        }
       ],
       "ref": "b5a672d7-b177-44e5-ad9d-7c9bdeccce9e",
       "rows": [
        [
         "3070210",
         "101843",
         "Aditya Birla Sun Life Short Term Fund - REGULAR - IDCW",
         "INF209K01975",
         "INF209K01DK0",
         "15.4338",
         "15.2023",
         "15.4338",
         "2015-12-18 00:00:00"
        ],
        [
         "15415177",
         "119902",
         "JPMorgan India Liquid Fund - Direct Plan - Daily Dividend Option",
         null,
         "INF843K01BA1",
         "10.0101",
         "10.0101",
         "10.0101",
         "2014-01-16 00:00:00"
        ],
        [
         "2806026",
         "101718",
         "DWS Insta Cash Plus Fund-DIVIDEND-Daily Dividend",
         null,
         "INF223J01BI1",
         "10.301",
         "10.301",
         "10.301",
         "2006-08-23 00:00:00"
        ],
        [
         "5239710",
         "103409",
         "SBI Multi Asset Allocation Fund - Regular Plan - Annual Income Distribution cum Capital Withdrawal Option (IDCW)",
         "INF200K01784",
         "INF200K01792",
         "25.5389",
         null,
         null,
         "2023-09-14 00:00:00"
        ],
        [
         "7154534",
         "107121",
         "Tata Fixed Income Portfolio Fund Scheme A1 Plan A - Growth",
         "INF277K01JB3",
         null,
         "11.9825",
         "11.9525",
         "11.9825",
         "2011-09-27 00:00:00"
        ],
        [
         "7613784",
         "108465",
         "ICICI Prudential Large Cap Fund (erstwhile Bluechip Fund)  - IDCW",
         "INF109K01EP9",
         "INF109K01BM2",
         "20.82",
         "20.61",
         "20.82",
         "2014-06-24 00:00:00"
        ],
        [
         "22507252",
         "145966",
         "WhiteOak Capital Liquid Fund- Direct plan-Fortnightly Payout/ Reinvestment of Income Distribution cum capital withdrawal option (IDCW)",
         "INF03VN01027",
         "INF03VN01035",
         "1001.9699",
         null,
         null,
         "2025-07-18 00:00:00"
        ],
        [
         "11751061",
         "118318",
         "CANARA ROBECO ULTRA SHORT TERM FUND - DIRECT PLAN - MONTHLY IDCW (Payout/Reinvestment)",
         "INF760K01GP4",
         "INF760K01GO7",
         "1005.9352",
         "1005.9352",
         "1005.9352",
         "2014-11-18 00:00:00"
        ],
        [
         "63899",
         "100047",
         "Aditya Birla Sun Life Liquid Fund - Growth",
         "INF209K01RU9",
         null,
         "170.8915",
         "170.8915",
         "170.8915",
         "2012-03-12 00:00:00"
        ],
        [
         "8221358",
         "109522",
         "JM Flexicap Fund (Regular) - Growth option",
         "INF192K01635",
         null,
         "85.3059",
         null,
         null,
         "2024-02-29 00:00:00"
        ]
       ],
       "shape": {
        "columns": 8,
        "rows": 10
       }
      },
      "text/html": [
       "<div>\n",
       "<style scoped>\n",
       "    .dataframe tbody tr th:only-of-type {\n",
       "        vertical-align: middle;\n",
       "    }\n",
       "\n",
       "    .dataframe tbody tr th {\n",
       "        vertical-align: top;\n",
       "    }\n",
       "\n",
       "    .dataframe thead th {\n",
       "        text-align: right;\n",
       "    }\n",
       "</style>\n",
       "<table border=\"1\" class=\"dataframe\">\n",
       "  <thead>\n",
       "    <tr style=\"text-align: right;\">\n",
       "      <th></th>\n",
       "      <th>scheme_code</th>\n",
       "      <th>scheme_name</th>\n",
       "      <th>isin_growth</th>\n",
       "      <th>isin_dividend</th>\n",
       "      <th>nav</th>\n",
       "      <th>repurchase_price</th>\n",
       "      <th>sale_price</th>\n",
       "      <th>date</th>\n",
       "    </tr>\n",
       "  </thead>\n",
       "  <tbody>\n",
       "    <tr>\n",
       "      <th>3070210</th>\n",
       "      <td>101843</td>\n",
       "      <td>Aditya Birla Sun Life Short Term Fund - REGULA...</td>\n",
       "      <td>INF209K01975</td>\n",
       "      <td>INF209K01DK0</td>\n",
       "      <td>15.4338</td>\n",
       "      <td>15.2023</td>\n",
       "      <td>15.4338</td>\n",
       "      <td>2015-12-18</td>\n",
       "    </tr>\n",
       "    <tr>\n",
       "      <th>15415177</th>\n",
       "      <td>119902</td>\n",
       "      <td>JPMorgan India Liquid Fund - Direct Plan - Dai...</td>\n",
       "      <td>None</td>\n",
       "      <td>INF843K01BA1</td>\n",
       "      <td>10.0101</td>\n",
       "      <td>10.0101</td>\n",
       "      <td>10.0101</td>\n",
       "      <td>2014-01-16</td>\n",
       "    </tr>\n",
       "    <tr>\n",
       "      <th>2806026</th>\n",
       "      <td>101718</td>\n",
       "      <td>DWS Insta Cash Plus Fund-DIVIDEND-Daily Dividend</td>\n",
       "      <td>None</td>\n",
       "      <td>INF223J01BI1</td>\n",
       "      <td>10.3010</td>\n",
       "      <td>10.3010</td>\n",
       "      <td>10.3010</td>\n",
       "      <td>2006-08-23</td>\n",
       "    </tr>\n",
       "    <tr>\n",
       "      <th>5239710</th>\n",
       "      <td>103409</td>\n",
       "      <td>SBI Multi Asset Allocation Fund - Regular Plan...</td>\n",
       "      <td>INF200K01784</td>\n",
       "      <td>INF200K01792</td>\n",
       "      <td>25.5389</td>\n",
       "      <td>NaN</td>\n",
       "      <td>NaN</td>\n",
       "      <td>2023-09-14</td>\n",
       "    </tr>\n",
       "    <tr>\n",
       "      <th>7154534</th>\n",
       "      <td>107121</td>\n",
       "      <td>Tata Fixed Income Portfolio Fund Scheme A1 Pla...</td>\n",
       "      <td>INF277K01JB3</td>\n",
       "      <td>None</td>\n",
       "      <td>11.9825</td>\n",
       "      <td>11.9525</td>\n",
       "      <td>11.9825</td>\n",
       "      <td>2011-09-27</td>\n",
       "    </tr>\n",
       "    <tr>\n",
       "      <th>7613784</th>\n",
       "      <td>108465</td>\n",
       "      <td>ICICI Prudential Large Cap Fund (erstwhile Blu...</td>\n",
       "      <td>INF109K01EP9</td>\n",
       "      <td>INF109K01BM2</td>\n",
       "      <td>20.8200</td>\n",
       "      <td>20.6100</td>\n",
       "      <td>20.8200</td>\n",
       "      <td>2014-06-24</td>\n",
       "    </tr>\n",
       "    <tr>\n",
       "      <th>22507252</th>\n",
       "      <td>145966</td>\n",
       "      <td>WhiteOak Capital Liquid Fund- Direct plan-Fort...</td>\n",
       "      <td>INF03VN01027</td>\n",
       "      <td>INF03VN01035</td>\n",
       "      <td>1001.9699</td>\n",
       "      <td>NaN</td>\n",
       "      <td>NaN</td>\n",
       "      <td>2025-07-18</td>\n",
       "    </tr>\n",
       "    <tr>\n",
       "      <th>11751061</th>\n",
       "      <td>118318</td>\n",
       "      <td>CANARA ROBECO ULTRA SHORT TERM FUND - DIRECT P...</td>\n",
       "      <td>INF760K01GP4</td>\n",
       "      <td>INF760K01GO7</td>\n",
       "      <td>1005.9352</td>\n",
       "      <td>1005.9352</td>\n",
       "      <td>1005.9352</td>\n",
       "      <td>2014-11-18</td>\n",
       "    </tr>\n",
       "    <tr>\n",
       "      <th>63899</th>\n",
       "      <td>100047</td>\n",
       "      <td>Aditya Birla Sun Life Liquid Fund - Growth</td>\n",
       "      <td>INF209K01RU9</td>\n",
       "      <td>None</td>\n",
       "      <td>170.8915</td>\n",
       "      <td>170.8915</td>\n",
       "      <td>170.8915</td>\n",
       "      <td>2012-03-12</td>\n",
       "    </tr>\n",
       "    <tr>\n",
       "      <th>8221358</th>\n",
       "      <td>109522</td>\n",
       "      <td>JM Flexicap Fund (Regular) - Growth option</td>\n",
       "      <td>INF192K01635</td>\n",
       "      <td>None</td>\n",
       "      <td>85.3059</td>\n",
       "      <td>NaN</td>\n",
       "      <td>NaN</td>\n",
       "      <td>2024-02-29</td>\n",
       "    </tr>\n",
       "  </tbody>\n",
       "</table>\n",
       "</div>"
      ],
      "text/plain": [
       "         scheme_code                                        scheme_name  \\\n",
       "3070210       101843  Aditya Birla Sun Life Short Term Fund - REGULA...   \n",
       "15415177      119902  JPMorgan India Liquid Fund - Direct Plan - Dai...   \n",
       "2806026       101718   DWS Insta Cash Plus Fund-DIVIDEND-Daily Dividend   \n",
       "5239710       103409  SBI Multi Asset Allocation Fund - Regular Plan...   \n",
       "7154534       107121  Tata Fixed Income Portfolio Fund Scheme A1 Pla...   \n",
       "7613784       108465  ICICI Prudential Large Cap Fund (erstwhile Blu...   \n",
       "22507252      145966  WhiteOak Capital Liquid Fund- Direct plan-Fort...   \n",
       "11751061      118318  CANARA ROBECO ULTRA SHORT TERM FUND - DIRECT P...   \n",
       "63899         100047         Aditya Birla Sun Life Liquid Fund - Growth   \n",
       "8221358       109522         JM Flexicap Fund (Regular) - Growth option   \n",
       "\n",
       "           isin_growth isin_dividend        nav  repurchase_price  sale_price  \\\n",
       "3070210   INF209K01975  INF209K01DK0    15.4338           15.2023     15.4338   \n",
       "15415177          None  INF843K01BA1    10.0101           10.0101     10.0101   \n",
       "2806026           None  INF223J01BI1    10.3010           10.3010     10.3010   \n",
       "5239710   INF200K01784  INF200K01792    25.5389               NaN         NaN   \n",
       "7154534   INF277K01JB3          None    11.9825           11.9525     11.9825   \n",
       "7613784   INF109K01EP9  INF109K01BM2    20.8200           20.6100     20.8200   \n",
       "22507252  INF03VN01027  INF03VN01035  1001.9699               NaN         NaN   \n",
       "11751061  INF760K01GP4  INF760K01GO7  1005.9352         1005.9352   1005.9352   \n",
       "63899     INF209K01RU9          None   170.8915          170.8915    170.8915   \n",
       "8221358   INF192K01635          None    85.3059               NaN         NaN   \n",
       "\n",
       "               date  \n",
       "3070210  2015-12-18  \n",
       "15415177 2014-01-16  \n",
       "2806026  2006-08-23  \n",
       "5239710  2023-09-14  \n",
       "7154534  2011-09-27  \n",
       "7613784  2014-06-24  \n",
       "22507252 2025-07-18  \n",
       "11751061 2014-11-18  \n",
       "63899    2012-03-12  \n",
       "8221358  2024-02-29  "
      ]
     },
     "execution_count": 3,
     "metadata": {},
     "output_type": "execute_result"
    }
   ],
   "source": [
    "df.sample(10)"
   ]
  },
  {
   "cell_type": "code",
   "execution_count": 4,
   "metadata": {},
   "outputs": [],
   "source": [
    "import duckdb as db"
   ]
  },
  {
   "cell_type": "code",
   "execution_count": 5,
   "metadata": {},
   "outputs": [],
   "source": [
    "nav_df = db.read_parquet('./data/processed/nav_combined/raw_nav_table.parquet') "
   ]
  },
  {
   "cell_type": "code",
   "execution_count": 6,
   "metadata": {},
   "outputs": [],
   "source": [
    "meta_df = db.read_parquet('./data/processed/scheme_metadata/amfi_scheme_metadata.parquet')"
   ]
  },
  {
   "cell_type": "code",
   "execution_count": 13,
   "metadata": {},
   "outputs": [
    {
     "ename": "",
     "evalue": "",
     "output_type": "error",
     "traceback": [
      "\u001b[1;31mThe Kernel crashed while executing code in the current cell or a previous cell. \n",
      "\u001b[1;31mPlease review the code in the cell(s) to identify a possible cause of the failure. \n",
      "\u001b[1;31mClick <a href='https://aka.ms/vscodeJupyterKernelCrash'>here</a> for more info. \n",
      "\u001b[1;31mView Jupyter <a href='command:jupyter.viewOutput'>log</a> for further details."
     ]
    }
   ],
   "source": [
    "nav_df.join(meta_df, condition='scheme_code', how='inner').to_df()"
   ]
  },
  {
   "cell_type": "code",
   "execution_count": null,
   "metadata": {},
   "outputs": [
    {
     "ename": "",
     "evalue": "",
     "output_type": "error",
     "traceback": [
      "\u001b[1;31mThe Kernel crashed while executing code in the current cell or a previous cell. \n",
      "\u001b[1;31mPlease review the code in the cell(s) to identify a possible cause of the failure. \n",
      "\u001b[1;31mClick <a href='https://aka.ms/vscodeJupyterKernelCrash'>here</a> for more info. \n",
      "\u001b[1;31mView Jupyter <a href='command:jupyter.viewOutput'>log</a> for further details."
     ]
    }
   ],
   "source": [
    "nav_df = (nav_df\n",
    " .merge(meta_df.query('(scheme_type==\"Open Ended\")&(is_growth_plan)').drop(columns=['minimum_amount','closure_date']), on='scheme_code', how='inner')\n",
    ")"
   ]
  },
  {
   "cell_type": "code",
   "execution_count": 1,
   "metadata": {},
   "outputs": [
    {
     "ename": "NameError",
     "evalue": "name 'nav_df' is not defined",
     "output_type": "error",
     "traceback": [
      "\u001b[0;31m---------------------------------------------------------------------------\u001b[0m",
      "\u001b[0;31mNameError\u001b[0m                                 Traceback (most recent call last)",
      "Cell \u001b[0;32mIn[1], line 1\u001b[0m\n\u001b[0;32m----> 1\u001b[0m \u001b[43mnav_df\u001b[49m\n",
      "\u001b[0;31mNameError\u001b[0m: name 'nav_df' is not defined"
     ]
    }
   ],
   "source": [
    "nav_df"
   ]
  },
  {
   "cell_type": "code",
   "execution_count": null,
   "metadata": {},
   "outputs": [
    {
     "data": {
      "text/plain": [
       "┌───────────────────────────────────────────────────┬─────────────┬────────────────────────────────────────────┬─────────────┬────────────────────────────────────────────┬────────────────────────────────────────────────────────────────────────────────────────┬────────────────┬─────────────────────┬─────────────────────┬──────────────────────────┬────────────────────────┬──────────────────────────────┬───────────┬────────────────┐\n",
       "│                     amc_name                      │ scheme_code │                scheme_name                 │ scheme_type │              scheme_category               │                                    scheme_nav_name                                     │ minimum_amount │     launch_date     │    closure_date     │       isin_growth        │ scheme_category_level1 │    scheme_category_level2    │ is_direct │ is_growth_plan │\n",
       "│                      varchar                      │   varchar   │                  varchar                   │   varchar   │                  varchar                   │                                        varchar                                         │     double     │    timestamp_ns     │    timestamp_ns     │         varchar          │        varchar         │           varchar            │  boolean  │    boolean     │\n",
       "├───────────────────────────────────────────────────┼─────────────┼────────────────────────────────────────────┼─────────────┼────────────────────────────────────────────┼────────────────────────────────────────────────────────────────────────────────────────┼────────────────┼─────────────────────┼─────────────────────┼──────────────────────────┼────────────────────────┼──────────────────────────────┼───────────┼────────────────┤\n",
       "│ Aditya Birla Sun Life AMC Limited                 │ 100033      │ Aditya Birla Sun Life Large & Mid Cap Fund │ Open Ended  │ Equity Scheme - Large & Mid Cap Fund       │ Aditya Birla Sun Life Large & Mid Cap Fund - Regular Growth                            │         5000.0 │ 1995-02-24 00:00:00 │ 1995-02-24 00:00:00 │ INF209K01165             │ Equity Scheme          │ Large & Mid Cap Fund         │ false     │ true           │\n",
       "│ Aditya Birla Sun Life AMC Limited                 │ 100034      │ Aditya Birla Sun Life Large & Mid Cap Fund │ Open Ended  │ Equity Scheme - Large & Mid Cap Fund       │ Aditya Birla Sun Life Large & Mid Cap Fund -Regular - IDCW                             │         5000.0 │ 1995-02-24 00:00:00 │ 1995-02-24 00:00:00 │ INF209K01157INF209K01CE5 │ Equity Scheme          │ Large & Mid Cap Fund         │ false     │ false          │\n",
       "│ Aditya Birla Sun Life AMC Limited                 │ 119433      │ Aditya Birla Sun Life Large & Mid Cap Fund │ Open Ended  │ Equity Scheme - Large & Mid Cap Fund       │ Aditya Birla Sun Life Large & Mid Cap Fund -Direct - IDCW                              │         5000.0 │ 1995-02-24 00:00:00 │ 1995-02-24 00:00:00 │ INF209K01VG0INF209K01VI6 │ Equity Scheme          │ Large & Mid Cap Fund         │ true      │ false          │\n",
       "│ Aditya Birla Sun Life AMC Limited                 │ 119436      │ Aditya Birla Sun Life Large & Mid Cap Fund │ Open Ended  │ Equity Scheme - Large & Mid Cap Fund       │ Aditya Birla Sun Life Large & Mid Cap Fund - Growth - Direct Plan                      │         5000.0 │ 1995-02-24 00:00:00 │ 1995-02-24 00:00:00 │ INF209K01VH8             │ Equity Scheme          │ Large & Mid Cap Fund         │ true      │ true           │\n",
       "│ Aditya Birla Sun Life AMC Limited                 │ 100037      │ Aditya Birla Sun Life Income Fund          │ Open Ended  │ Debt Scheme - Medium to Long Duration Fund │ Aditya Birla Sun Life Income Fund - Regular - Quarterly IDCW                           │         5000.0 │ 1994-01-01 00:00:00 │ 1994-01-01 00:00:00 │ INF209K01587INF209K01CY3 │ Debt Scheme            │ Medium to Long Duration Fund │ false     │ false          │\n",
       "│ Aditya Birla Sun Life AMC Limited                 │ 100038      │ Aditya Birla Sun Life Income Fund          │ Open Ended  │ Debt Scheme - Medium to Long Duration Fund │ Aditya Birla Sun Life Income Fund - Growth - Regular Plan                              │         5000.0 │ 1994-01-01 00:00:00 │ 1994-01-01 00:00:00 │ INF209K01579             │ Debt Scheme            │ Medium to Long Duration Fund │ false     │ false          │\n",
       "│ Aditya Birla Sun Life AMC Limited                 │ 100039      │ Aditya Birla Sun Life Income Fund          │ Open Ended  │ Debt Scheme - Medium to Long Duration Fund │ Birla Income Plus-Institutional (Growth)                                               │         5000.0 │ 1994-01-01 00:00:00 │ 1994-01-01 00:00:00 │ NULL                     │ Debt Scheme            │ Medium to Long Duration Fund │ false     │ false          │\n",
       "│ Aditya Birla Sun Life AMC Limited                 │ 100040      │ Aditya Birla Sun Life Income Fund          │ Open Ended  │ Debt Scheme - Medium to Long Duration Fund │ Birla Income Plus-Institutional (Dividend)                                             │         5000.0 │ 1994-01-01 00:00:00 │ 1994-01-01 00:00:00 │ NULL                     │ Debt Scheme            │ Medium to Long Duration Fund │ false     │ false          │\n",
       "│ Aditya Birla Sun Life AMC Limited                 │ 111777      │ Aditya Birla Sun Life Income Fund          │ Open Ended  │ Debt Scheme - Medium to Long Duration Fund │ Aditya Birla Sun Life Income Fund (Discipline Advantage Plan)                          │         5000.0 │ 1994-01-01 00:00:00 │ 1994-01-01 00:00:00 │ INF209K01LD8             │ Debt Scheme            │ Medium to Long Duration Fund │ false     │ false          │\n",
       "│ Aditya Birla Sun Life AMC Limited                 │ 119655      │ Aditya Birla Sun Life Income Fund          │ Open Ended  │ Debt Scheme - Medium to Long Duration Fund │ Aditya Birla Sun Life Income Fund - Direct - Quarterly IDCW                            │         5000.0 │ 1994-01-01 00:00:00 │ 1994-01-01 00:00:00 │ INF209K01R13INF209K01WZ8 │ Debt Scheme            │ Medium to Long Duration Fund │ true      │ false          │\n",
       "│                 ·                                 │   ·         │                ·                           │     ·       │              ·                             │                    ·                                                                   │             ·  │          ·          │  ·                  │      ·                   │      ·                 │       ·                      │  ·        │  ·             │\n",
       "│                 ·                                 │   ·         │                ·                           │     ·       │              ·                             │                    ·                                                                   │             ·  │          ·          │  ·                  │      ·                   │      ·                 │       ·                      │  ·        │  ·             │\n",
       "│                 ·                                 │   ·         │                ·                           │     ·       │              ·                             │                    ·                                                                   │             ·  │          ·          │  ·                  │      ·                   │      ·                 │       ·                      │  ·        │  ·             │\n",
       "│ ICICI Prudential Asset Management Company Limited │ 145535      │ ICICI Prudential Overnight Fund            │ Open Ended  │ Debt Scheme - Overnight Fund               │ ICICI Prudential Overnight Fund - Growth                                               │           NULL │ 2018-11-14 00:00:00 │ NULL                │ INF109KC17E3             │ Debt Scheme            │ Overnight Fund               │ false     │ true           │\n",
       "│ ICICI Prudential Asset Management Company Limited │ 145536      │ ICICI Prudential Overnight Fund            │ Open Ended  │ Debt Scheme - Overnight Fund               │ ICICI Prudential Overnight Fund - Direct Plan - Growth                                 │           NULL │ 2018-11-14 00:00:00 │ NULL                │ INF109KC11G1             │ Debt Scheme            │ Overnight Fund               │ true      │ true           │\n",
       "│ ICICI Prudential Asset Management Company Limited │ 145537      │ ICICI Prudential Overnight Fund            │ Open Ended  │ Debt Scheme - Overnight Fund               │ ICICI Prudential Overnight Fund - Direct Plan - Daily IDCW                             │           NULL │ 2018-11-14 00:00:00 │ NULL                │ INF109KC12G9             │ Debt Scheme            │ Overnight Fund               │ true      │ false          │\n",
       "│ ICICI Prudential Asset Management Company Limited │ 145538      │ ICICI Prudential Overnight Fund            │ Open Ended  │ Debt Scheme - Overnight Fund               │ ICICI Prudential Overnight Fund - Weekly IDCW                                          │           NULL │ 2018-11-14 00:00:00 │ NULL                │ INF109KC12F1INF109KC11F3 │ Debt Scheme            │ Overnight Fund               │ false     │ false          │\n",
       "│ ICICI Prudential Asset Management Company Limited │ 145539      │ ICICI Prudential Overnight Fund            │ Open Ended  │ Debt Scheme - Overnight Fund               │ ICICI Prudential Overnight Fund - Direct Plan - Weekly IDCW                            │           NULL │ 2018-11-14 00:00:00 │ NULL                │ INF109KC16G0INF109KC15G2 │ Debt Scheme            │ Overnight Fund               │ true      │ false          │\n",
       "│ ICICI Prudential Asset Management Company Limited │ 145540      │ ICICI Prudential Overnight Fund            │ Open Ended  │ Debt Scheme - Overnight Fund               │ ICICI Prudential Overnight Fund - Fortnightly IDCW                                     │           NULL │ 2018-11-14 00:00:00 │ NULL                │ INF109KC14F7INF109KC13F9 │ Debt Scheme            │ Overnight Fund               │ false     │ false          │\n",
       "│ ICICI Prudential Asset Management Company Limited │ 149410      │ ICICI Prudential Overnight Fund            │ Open Ended  │ Debt Scheme - Overnight Fund               │ ICICI Prudential Overnight fund - Direct Plan - Unclaimed Redemption Transitory Scheme │           NULL │ 2018-11-14 00:00:00 │ NULL                │ INF109KC15H0             │ Debt Scheme            │ Overnight Fund               │ true      │ false          │\n",
       "│ ICICI Prudential Asset Management Company Limited │ 149411      │ ICICI Prudential Overnight Fund            │ Open Ended  │ Debt Scheme - Overnight Fund               │ ICICI Prudential Overnight fund - Direct Plan - Unclaimed IDCW Stable Scheme           │           NULL │ 2018-11-14 00:00:00 │ NULL                │ INF109KC18H4             │ Debt Scheme            │ Overnight Fund               │ true      │ false          │\n",
       "│ ICICI Prudential Asset Management Company Limited │ 145547      │ ICICI Prudential Overnight Fund            │ Open Ended  │ Debt Scheme - Overnight Fund               │ ICICI Prudential Overnight Fund - Daily IDCW                                           │           NULL │ 2018-11-14 00:00:00 │ NULL                │ INF109KC18E1             │ Debt Scheme            │ Overnight Fund               │ false     │ false          │\n",
       "│ ICICI Prudential Asset Management Company Limited │ 145548      │ ICICI Prudential Overnight Fund            │ Open Ended  │ Debt Scheme - Overnight Fund               │ ICICI Prudential Overnight Fund - Monthly IDCW                                         │           NULL │ 2018-11-14 00:00:00 │ NULL                │ INF109KC19E9INF109KC10F5 │ Debt Scheme            │ Overnight Fund               │ false     │ false          │\n",
       "├───────────────────────────────────────────────────┴─────────────┴────────────────────────────────────────────┴─────────────┴────────────────────────────────────────────┴────────────────────────────────────────────────────────────────────────────────────────┴────────────────┴─────────────────────┴─────────────────────┴──────────────────────────┴────────────────────────┴──────────────────────────────┴───────────┴────────────────┤\n",
       "│ ? rows (>9999 rows, 20 shown)                                                                                                                                                                                                                                                                                                                                                                                                      14 columns │\n",
       "└───────────────────────────────────────────────────────────────────────────────────────────────────────────────────────────────────────────────────────────────────────────────────────────────────────────────────────────────────────────────────────────────────────────────────────────────────────────────────────────────────────────────────────────────────────────────────────────────────────────────────────────────────────────────┘"
      ]
     },
     "execution_count": 7,
     "metadata": {},
     "output_type": "execute_result"
    }
   ],
   "source": [
    "meta_df"
   ]
  },
  {
   "cell_type": "markdown",
   "metadata": {},
   "source": []
  },
  {
   "cell_type": "code",
   "execution_count": null,
   "metadata": {},
   "outputs": [],
   "source": []
  }
 ],
 "metadata": {
  "kernelspec": {
   "display_name": "mf_data_pipeline (3.10.13)",
   "language": "python",
   "name": "python3"
  },
  "language_info": {
   "codemirror_mode": {
    "name": "ipython",
    "version": 3
   },
   "file_extension": ".py",
   "mimetype": "text/x-python",
   "name": "python",
   "nbconvert_exporter": "python",
   "pygments_lexer": "ipython3",
   "version": "3.10.13"
  }
 },
 "nbformat": 4,
 "nbformat_minor": 4
}
